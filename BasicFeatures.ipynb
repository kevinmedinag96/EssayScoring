{
 "cells": [
  {
   "cell_type": "markdown",
   "metadata": {},
   "source": [
    "# Import Libraries"
   ]
  },
  {
   "cell_type": "code",
   "execution_count": 1,
   "metadata": {},
   "outputs": [],
   "source": [
    "# !pip install polars"
   ]
  },
  {
   "cell_type": "code",
   "execution_count": 2,
   "metadata": {},
   "outputs": [],
   "source": [
    "# pip install pyarrow"
   ]
  },
  {
   "cell_type": "code",
   "execution_count": 3,
   "metadata": {},
   "outputs": [],
   "source": [
    "# !pip install pyspellchecker"
   ]
  },
  {
   "cell_type": "code",
   "execution_count": 4,
   "metadata": {},
   "outputs": [],
   "source": [
    "import pandas as pd # DataFrames\n",
    "import re # Regular expressions\n",
    "import polars as pl # DataFrames\n",
    "\n",
    "from sklearn.model_selection import train_test_split # Split\n",
    "from sklearn.neighbors import KNeighborsClassifier # kNN\n",
    "from sklearn.svm import SVC # SVM\n",
    "from sklearn.ensemble import RandomForestClassifier # RF\n",
    "from sklearn.model_selection import GridSearchCV # GridSearchCV\n",
    "from sklearn.metrics import accuracy_score, cohen_kappa_score, make_scorer # Metrics\n",
    "\n",
    "from sklearn import metrics # Confusion Matrix\n",
    "import matplotlib.pyplot as plt # Graficar\n",
    "\n",
    "# Extra Features\n",
    "from spellchecker import SpellChecker # Errores gramaticales \n",
    "from nltk.tokenize import word_tokenize # Tokenizador\n",
    "from tqdm import tqdm # Progress bars\n",
    "\n",
    "tqdm.pandas() # Progress bars for pandas"
   ]
  },
  {
   "cell_type": "code",
   "execution_count": 5,
   "metadata": {},
   "outputs": [
    {
     "name": "stderr",
     "output_type": "stream",
     "text": [
      "[nltk_data] Downloading package punkt to\n",
      "[nltk_data]     C:\\Users\\EdgarAguilera\\AppData\\Roaming\\nltk_data...\n",
      "[nltk_data]   Package punkt is already up-to-date!\n"
     ]
    },
    {
     "data": {
      "text/plain": [
       "True"
      ]
     },
     "execution_count": 5,
     "metadata": {},
     "output_type": "execute_result"
    }
   ],
   "source": [
    "import nltk # Natural Language processor\n",
    "nltk.download('punkt')"
   ]
  },
  {
   "cell_type": "markdown",
   "metadata": {},
   "source": [
    "# Load Data"
   ]
  },
  {
   "cell_type": "code",
   "execution_count": 6,
   "metadata": {},
   "outputs": [],
   "source": [
    "data_path = \"data/train.csv\"\n",
    "df = pd.read_csv(data_path)\n",
    "\n",
    "data_path = \"data/test.csv\"\n",
    "df_test = pd.read_csv(data_path)"
   ]
  },
  {
   "cell_type": "markdown",
   "metadata": {},
   "source": [
    "# Explore Data"
   ]
  },
  {
   "cell_type": "code",
   "execution_count": 7,
   "metadata": {},
   "outputs": [
    {
     "data": {
      "text/html": [
       "<div>\n",
       "<style scoped>\n",
       "    .dataframe tbody tr th:only-of-type {\n",
       "        vertical-align: middle;\n",
       "    }\n",
       "\n",
       "    .dataframe tbody tr th {\n",
       "        vertical-align: top;\n",
       "    }\n",
       "\n",
       "    .dataframe thead th {\n",
       "        text-align: right;\n",
       "    }\n",
       "</style>\n",
       "<table border=\"1\" class=\"dataframe\">\n",
       "  <thead>\n",
       "    <tr style=\"text-align: right;\">\n",
       "      <th></th>\n",
       "      <th>essay_id</th>\n",
       "      <th>full_text</th>\n",
       "      <th>score</th>\n",
       "    </tr>\n",
       "  </thead>\n",
       "  <tbody>\n",
       "    <tr>\n",
       "      <th>0</th>\n",
       "      <td>000d118</td>\n",
       "      <td>Many people have car where they live. The thin...</td>\n",
       "      <td>3</td>\n",
       "    </tr>\n",
       "    <tr>\n",
       "      <th>1</th>\n",
       "      <td>000fe60</td>\n",
       "      <td>I am a scientist at NASA that is discussing th...</td>\n",
       "      <td>3</td>\n",
       "    </tr>\n",
       "    <tr>\n",
       "      <th>2</th>\n",
       "      <td>001ab80</td>\n",
       "      <td>People always wish they had the same technolog...</td>\n",
       "      <td>4</td>\n",
       "    </tr>\n",
       "    <tr>\n",
       "      <th>3</th>\n",
       "      <td>001bdc0</td>\n",
       "      <td>We all heard about Venus, the planet without a...</td>\n",
       "      <td>4</td>\n",
       "    </tr>\n",
       "    <tr>\n",
       "      <th>4</th>\n",
       "      <td>002ba53</td>\n",
       "      <td>Dear, State Senator\\n\\nThis is a letter to arg...</td>\n",
       "      <td>3</td>\n",
       "    </tr>\n",
       "  </tbody>\n",
       "</table>\n",
       "</div>"
      ],
      "text/plain": [
       "  essay_id                                          full_text  score\n",
       "0  000d118  Many people have car where they live. The thin...      3\n",
       "1  000fe60  I am a scientist at NASA that is discussing th...      3\n",
       "2  001ab80  People always wish they had the same technolog...      4\n",
       "3  001bdc0  We all heard about Venus, the planet without a...      4\n",
       "4  002ba53  Dear, State Senator\\n\\nThis is a letter to arg...      3"
      ]
     },
     "execution_count": 7,
     "metadata": {},
     "output_type": "execute_result"
    }
   ],
   "source": [
    "df.head()"
   ]
  },
  {
   "cell_type": "code",
   "execution_count": 8,
   "metadata": {},
   "outputs": [
    {
     "data": {
      "text/html": [
       "<div>\n",
       "<style scoped>\n",
       "    .dataframe tbody tr th:only-of-type {\n",
       "        vertical-align: middle;\n",
       "    }\n",
       "\n",
       "    .dataframe tbody tr th {\n",
       "        vertical-align: top;\n",
       "    }\n",
       "\n",
       "    .dataframe thead th {\n",
       "        text-align: right;\n",
       "    }\n",
       "</style>\n",
       "<table border=\"1\" class=\"dataframe\">\n",
       "  <thead>\n",
       "    <tr style=\"text-align: right;\">\n",
       "      <th></th>\n",
       "      <th>essay_id</th>\n",
       "      <th>full_text</th>\n",
       "    </tr>\n",
       "  </thead>\n",
       "  <tbody>\n",
       "    <tr>\n",
       "      <th>0</th>\n",
       "      <td>000d118</td>\n",
       "      <td>Many people have car where they live. The thin...</td>\n",
       "    </tr>\n",
       "    <tr>\n",
       "      <th>1</th>\n",
       "      <td>000fe60</td>\n",
       "      <td>I am a scientist at NASA that is discussing th...</td>\n",
       "    </tr>\n",
       "    <tr>\n",
       "      <th>2</th>\n",
       "      <td>001ab80</td>\n",
       "      <td>People always wish they had the same technolog...</td>\n",
       "    </tr>\n",
       "  </tbody>\n",
       "</table>\n",
       "</div>"
      ],
      "text/plain": [
       "  essay_id                                          full_text\n",
       "0  000d118  Many people have car where they live. The thin...\n",
       "1  000fe60  I am a scientist at NASA that is discussing th...\n",
       "2  001ab80  People always wish they had the same technolog..."
      ]
     },
     "execution_count": 8,
     "metadata": {},
     "output_type": "execute_result"
    }
   ],
   "source": [
    "df_test.head()"
   ]
  },
  {
   "cell_type": "markdown",
   "metadata": {},
   "source": [
    "# Data Pre-processing"
   ]
  },
  {
   "cell_type": "code",
   "execution_count": 9,
   "metadata": {},
   "outputs": [],
   "source": [
    "def removeHTML(x):\n",
    "    html=re.compile(r'<.*?>')\n",
    "    return html.sub(r'',x)\n",
    "\n",
    "def dataPreprocessing(x):\n",
    "    # Convert words to lowercase\n",
    "    x = x.lower()\n",
    "    # Remove HTML\n",
    "    x = removeHTML(x)\n",
    "    # Delete strings starting with @\n",
    "    x = re.sub(\"@\\w+\", '',x)\n",
    "    # Delete Numbers\n",
    "    x = re.sub(\"'\\d+\", '',x)\n",
    "    x = re.sub(\"\\d+\", '',x)\n",
    "    # Delete URL\n",
    "    x = re.sub(\"http\\w+\", '',x)\n",
    "    # Replace consecutive empty spaces with a single space character\n",
    "    x = re.sub(r\"\\s+\", \" \", x)\n",
    "    # Replace consecutive commas and periods with one comma and period character\n",
    "    x = re.sub(r\"\\.+\", \".\", x)\n",
    "    x = re.sub(r\"\\,+\", \",\", x)\n",
    "    # Remove empty characters at the beginning and end\n",
    "    x = x.strip()\n",
    "    return x"
   ]
  },
  {
   "cell_type": "code",
   "execution_count": 10,
   "metadata": {},
   "outputs": [],
   "source": [
    "columns = [(pl.col(\"full_text\").str.split(by=\"\\n\\n\").alias(\"paragraph\"))]\n",
    "train = pl.from_pandas(df).with_columns(columns)\n",
    "test = pl.from_pandas(df_test).with_columns(columns)"
   ]
  },
  {
   "cell_type": "code",
   "execution_count": 11,
   "metadata": {},
   "outputs": [
    {
     "data": {
      "text/html": [
       "<div><style>\n",
       ".dataframe > thead > tr,\n",
       ".dataframe > tbody > tr {\n",
       "  text-align: right;\n",
       "  white-space: pre-wrap;\n",
       "}\n",
       "</style>\n",
       "<small>shape: (5, 4)</small><table border=\"1\" class=\"dataframe\"><thead><tr><th>essay_id</th><th>full_text</th><th>score</th><th>paragraph</th></tr><tr><td>str</td><td>str</td><td>i64</td><td>list[str]</td></tr></thead><tbody><tr><td>&quot;000d118&quot;</td><td>&quot;Many people have car where the…</td><td>3</td><td>[&quot;Many people have car where they live. The thing they don&#x27;t know is that when you use a car alot of thing can happen like you can get in accidet or the smoke that the car has is bad to breath on if someone is walk but in VAUBAN,Germany they dont have that proble because 70 percent of vauban&#x27;s families do not own cars,and 57 percent sold a car to move there. Street parkig ,driveways and home garages are forbidden on the outskirts of freiburd that near the French and Swiss borders. You probaly won&#x27;t see a car in Vauban&#x27;s streets because they are completely &quot;car free&quot; but If some that lives in VAUBAN that owns a car ownership is allowed,but there are only two places that you can park a large garages at the edge of the development,where a car owner buys a space but it not cheap to buy one they sell the space for you car for $40,000 along with a home. The vauban people completed this in 2006 ,they said that this an example of a growing trend in Europe,The untile states and some where else are suburban life from auto use this is called &quot;smart planning&quot;. The current efforts to drastically reduce greenhouse gas emissions from tailes the passengee cars are responsible for 12 percent of greenhouse gas emissions in Europe and up to 50 percent in some car intensive in the United States. I honeslty think that good idea that they did that is Vaudan because that makes cities denser and better for walking and in VAUBAN there are 5,500 residents within a rectangular square mile. In the artical David Gold berg said that &quot;All of our development since World war 2 has been centered on the cars,and that will have to change&quot; and i think that was very true what David Gold said because alot thing we need cars to do we can go anyway were with out cars beacuse some people are a very lazy to walk to place thats why they alot of people use car and i think that it was a good idea that that they did that in VAUBAN so people can see how we really don&#x27;t need car to go to place from place because we can walk from were we need to go or we can ride bycles with out the use of a car. It good that they are doing that if you thik about your help the earth in way and thats a very good thing to. In the United states ,the Environmental protection Agency is promoting what is called &quot;car reduced&quot;communtunties,and the legislators are starting to act,if cautiously. Maany experts expect pubic transport serving suburbs to play a much larger role in a new six years federal transportation bill to approved this year. In previous bill,80 percent of appropriations have by law gone to highways and only 20 percent to other transports. There many good reason why they should do this.    &quot;]</td></tr><tr><td>&quot;000fe60&quot;</td><td>&quot;I am a scientist at NASA that …</td><td>3</td><td>[&quot;I am a scientist at NASA that is discussing the &quot;face&quot; on mars. I will be explaining how the &quot;face&quot; is a land form. By sharing my information about this isue i will tell you just that.&quot;, &quot;First off, how could it be a martions drawing. There is no plant life on mars as of rite now that we know of, which means so far as we know it is not possible for any type of life. That explains how it could not be made by martians. Also why and how would a martion build a face so big. It just does not make any since that a martian did this.&quot;, … &quot;To sum all this up the &quot;face&quot; on mars is a landform but others would like to beleive it&#x27;s a martian sculpture. Which every one that works at NASA says it&#x27;s a landform and they are all the ones working on the planet and taking pictures.&quot;]</td></tr><tr><td>&quot;001ab80&quot;</td><td>&quot;People always wish they had th…</td><td>4</td><td>[&quot;People always wish they had the same technology that they have seen in movies, or the best new piece of technology that is all over social media. However, nobody seems to think of the risks that these kinds of new technologies may have. Cars have been around for many decades, and now manufacturers are starting to get on the bandwagon and come up with the new and improved technology that they hope will appeal to everyone. As of right now, it seems as though the negative characteristics of these cars consume the positive idea that these manufacturers have tried to convey.&quot;, &quot;Currently, this new technology in cars has a very long way to go before being completely &quot;driverless&quot;. Drivers still need to be on alert when they are driving, as well as control the car near any accidents or complicated traffic situations. This seems to totally defeat the purpose of the &quot;driverless&quot; car. Eventually the technology may improve, but nobody can be certain that the driverless car will eventually become completely &quot;driverless&quot;. This idea just seems like a lot of hard work and money for something that is not very neccessary. If someone does not want to drive their car they can just take a city bus or a subway. There are so many options of transportation that can already solve this problem. Even if masnufacturers are trying to make driving more &quot;fun&quot;, driving is not meant to be &quot;fun&quot; it is meant to get people where they need to go. Playing around in a car just to have &quot;fun&quot; is just a recipe for disaster.&quot;, … &quot;The technology car manufacturers are trying to develope may just be a diasaster in the making. There are many alternative options of transportations if you do not feel like driving yourself, and these options are way less expensive than buying a brand new car. Although this technology is relatively new, we can not be certain that this new idea will even pay off in the end, it may just be a waste of money and time. Sometimes the newest technology is not the most benefical.         &quot;]</td></tr><tr><td>&quot;001bdc0&quot;</td><td>&quot;We all heard about Venus, the …</td><td>4</td><td>[&quot;We all heard about Venus, the planet without almost oxygen with earthquakes, erupting volcanoes and temperatures average over 800 degrees Fahrenheit but what if scientist project the futur into this planet ? Through this article, the author uses evidences appealing to reason and concession to make us realize why we should care about studying this planet so that people must give a chance to Venus.&quot;, &quot;Venus is the closest planet to Earth in terms density and size but has a really different climate. As it is evoked by the author:&quot;, … &quot;In conclusion, despite of Venus hostility put in advance by the concession, the author makes the audience realize that there&#x27;s a solution but that we can find it only if we study the planet. He make us find out that challenge and curiosity is part of human life. But also that danger and fear should not stop us from discovering new things. After all, we are Humans.&quot;]</td></tr><tr><td>&quot;002ba53&quot;</td><td>&quot;Dear, State Senator\n",
       "\n",
       "This is a…</td><td>3</td><td>[&quot;Dear, State Senator&quot;, &quot;This is a letter to argue in favor of keeping the Electoral College.&quot;There are many reasons to keep the Electoral College&quot; one reason is because it is widely regarded as an anachronism, a dispute over the outcome of an Electoral College vote is possible, but it is less likely than a dispute over the popular vote, and the Electoral College restores some of the weight in the political balance that large states (by population) lose by virue of the mal apportionment of the Senate decreed in the Constitution.&quot;, … &quot;From, PROPER_NAME            &quot;]</td></tr></tbody></table></div>"
      ],
      "text/plain": [
       "shape: (5, 4)\n",
       "┌──────────┬─────────────────────────────────┬───────┬─────────────────────────────────┐\n",
       "│ essay_id ┆ full_text                       ┆ score ┆ paragraph                       │\n",
       "│ ---      ┆ ---                             ┆ ---   ┆ ---                             │\n",
       "│ str      ┆ str                             ┆ i64   ┆ list[str]                       │\n",
       "╞══════════╪═════════════════════════════════╪═══════╪═════════════════════════════════╡\n",
       "│ 000d118  ┆ Many people have car where the… ┆ 3     ┆ [\"Many people have car where t… │\n",
       "│ 000fe60  ┆ I am a scientist at NASA that … ┆ 3     ┆ [\"I am a scientist at NASA tha… │\n",
       "│ 001ab80  ┆ People always wish they had th… ┆ 4     ┆ [\"People always wish they had … │\n",
       "│ 001bdc0  ┆ We all heard about Venus, the … ┆ 4     ┆ [\"We all heard about Venus, th… │\n",
       "│ 002ba53  ┆ Dear, State Senator             ┆ 3     ┆ [\"Dear, State Senator\", \"This … │\n",
       "│          ┆                                 ┆       ┆                                 │\n",
       "│          ┆ This is a…                      ┆       ┆                                 │\n",
       "└──────────┴─────────────────────────────────┴───────┴─────────────────────────────────┘"
      ]
     },
     "execution_count": 11,
     "metadata": {},
     "output_type": "execute_result"
    }
   ],
   "source": [
    "train.head()"
   ]
  },
  {
   "cell_type": "code",
   "execution_count": 12,
   "metadata": {},
   "outputs": [
    {
     "data": {
      "text/html": [
       "<div><style>\n",
       ".dataframe > thead > tr,\n",
       ".dataframe > tbody > tr {\n",
       "  text-align: right;\n",
       "  white-space: pre-wrap;\n",
       "}\n",
       "</style>\n",
       "<small>shape: (3, 3)</small><table border=\"1\" class=\"dataframe\"><thead><tr><th>essay_id</th><th>full_text</th><th>paragraph</th></tr><tr><td>str</td><td>str</td><td>list[str]</td></tr></thead><tbody><tr><td>&quot;000d118&quot;</td><td>&quot;Many people have car where the…</td><td>[&quot;Many people have car where they live. The thing they don&#x27;t know is that when you use a car alot of thing can happen like you can get in accidet or the smoke that the car has is bad to breath on if someone is walk but in VAUBAN,Germany they dont have that proble because 70 percent of vauban&#x27;s families do not own cars,and 57 percent sold a car to move there. Street parkig ,driveways and home garages are forbidden on the outskirts of freiburd that near the French and Swiss borders. You probaly won&#x27;t see a car in Vauban&#x27;s streets because they are completely &quot;car free&quot; but If some that lives in VAUBAN that owns a car ownership is allowed,but there are only two places that you can park a large garages at the edge of the development,where a car owner buys a space but it not cheap to buy one they sell the space for you car for $40,000 along with a home. The vauban people completed this in 2006 ,they said that this an example of a growing trend in Europe,The untile states and some where else are suburban life from auto use this is called &quot;smart planning&quot;. The current efforts to drastically reduce greenhouse gas emissions from tailes the passengee cars are responsible for 12 percent of greenhouse gas emissions in Europe and up to 50 percent in some car intensive in the United States. I honeslty think that good idea that they did that is Vaudan because that makes cities denser and better for walking and in VAUBAN there are 5,500 residents within a rectangular square mile. In the artical David Gold berg said that &quot;All of our development since World war 2 has been centered on the cars,and that will have to change&quot; and i think that was very true what David Gold said because alot thing we need cars to do we can go anyway were with out cars beacuse some people are a very lazy to walk to place thats why they alot of people use car and i think that it was a good idea that that they did that in VAUBAN so people can see how we really don&#x27;t need car to go to place from place because we can walk from were we need to go or we can ride bycles with out the use of a car. It good that they are doing that if you thik about your help the earth in way and thats a very good thing to. In the United states ,the Environmental protection Agency is promoting what is called &quot;car reduced&quot;communtunties,and the legislators are starting to act,if cautiously. Maany experts expect pubic transport serving suburbs to play a much larger role in a new six years federal transportation bill to approved this year. In previous bill,80 percent of appropriations have by law gone to highways and only 20 percent to other transports. There many good reason why they should do this.    &quot;]</td></tr><tr><td>&quot;000fe60&quot;</td><td>&quot;I am a scientist at NASA that …</td><td>[&quot;I am a scientist at NASA that is discussing the &quot;face&quot; on mars. I will be explaining how the &quot;face&quot; is a land form. By sharing my information about this isue i will tell you just that.&quot;, &quot;First off, how could it be a martions drawing. There is no plant life on mars as of rite now that we know of, which means so far as we know it is not possible for any type of life. That explains how it could not be made by martians. Also why and how would a martion build a face so big. It just does not make any since that a martian did this.&quot;, … &quot;To sum all this up the &quot;face&quot; on mars is a landform but others would like to beleive it&#x27;s a martian sculpture. Which every one that works at NASA says it&#x27;s a landform and they are all the ones working on the planet and taking pictures.&quot;]</td></tr><tr><td>&quot;001ab80&quot;</td><td>&quot;People always wish they had th…</td><td>[&quot;People always wish they had the same technology that they have seen in movies, or the best new piece of technology that is all over social media. However, nobody seems to think of the risks that these kinds of new technologies may have. Cars have been around for many decades, and now manufacturers are starting to get on the bandwagon and come up with the new and improved technology that they hope will appeal to everyone. As of right now, it seems as though the negative characteristics of these cars consume the positive idea that these manufacturers have tried to convey.&quot;, &quot;Currently, this new technology in cars has a very long way to go before being completely &quot;driverless&quot;. Drivers still need to be on alert when they are driving, as well as control the car near any accidents or complicated traffic situations. This seems to totally defeat the purpose of the &quot;driverless&quot; car. Eventually the technology may improve, but nobody can be certain that the driverless car will eventually become completely &quot;driverless&quot;. This idea just seems like a lot of hard work and money for something that is not very neccessary. If someone does not want to drive their car they can just take a city bus or a subway. There are so many options of transportation that can already solve this problem. Even if masnufacturers are trying to make driving more &quot;fun&quot;, driving is not meant to be &quot;fun&quot; it is meant to get people where they need to go. Playing around in a car just to have &quot;fun&quot; is just a recipe for disaster.&quot;, … &quot;The technology car manufacturers are trying to develope may just be a diasaster in the making. There are many alternative options of transportations if you do not feel like driving yourself, and these options are way less expensive than buying a brand new car. Although this technology is relatively new, we can not be certain that this new idea will even pay off in the end, it may just be a waste of money and time. Sometimes the newest technology is not the most benefical.         &quot;]</td></tr></tbody></table></div>"
      ],
      "text/plain": [
       "shape: (3, 3)\n",
       "┌──────────┬─────────────────────────────────┬─────────────────────────────────┐\n",
       "│ essay_id ┆ full_text                       ┆ paragraph                       │\n",
       "│ ---      ┆ ---                             ┆ ---                             │\n",
       "│ str      ┆ str                             ┆ list[str]                       │\n",
       "╞══════════╪═════════════════════════════════╪═════════════════════════════════╡\n",
       "│ 000d118  ┆ Many people have car where the… ┆ [\"Many people have car where t… │\n",
       "│ 000fe60  ┆ I am a scientist at NASA that … ┆ [\"I am a scientist at NASA tha… │\n",
       "│ 001ab80  ┆ People always wish they had th… ┆ [\"People always wish they had … │\n",
       "└──────────┴─────────────────────────────────┴─────────────────────────────────┘"
      ]
     },
     "execution_count": 12,
     "metadata": {},
     "output_type": "execute_result"
    }
   ],
   "source": [
    "test.head()"
   ]
  },
  {
   "cell_type": "markdown",
   "metadata": {},
   "source": [
    "# Feature Extraction"
   ]
  },
  {
   "cell_type": "markdown",
   "metadata": {},
   "source": [
    "## Paragraph"
   ]
  },
  {
   "cell_type": "code",
   "execution_count": 13,
   "metadata": {},
   "outputs": [],
   "source": [
    "# paragraph features\n",
    "def Paragraph_Preprocess(tmp):\n",
    "    # Expand the paragraph list into several lines of data\n",
    "    tmp = tmp.explode('paragraph')\n",
    "\n",
    "    # Paragraph preprocessing\n",
    "    tmp = tmp.with_columns(pl.col('paragraph').map_elements(dataPreprocessing))\n",
    "    \n",
    "    # Calculate the length of each paragraph\n",
    "    tmp = tmp.with_columns(pl.col('paragraph').map_elements(lambda x: len(x)).alias(\"paragraph_len\"))\n",
    "    \n",
    "    # Calculate the number of sentences and words in each paragraph\n",
    "    tmp = tmp.with_columns(pl.col('paragraph').map_elements(lambda x: len(x.split('.'))).alias(\"paragraph_sentence_cnt\"),\n",
    "                    pl.col('paragraph').map_elements(lambda x: len(x.split(' '))).alias(\"paragraph_word_cnt\"),)\n",
    "    return tmp"
   ]
  },
  {
   "cell_type": "code",
   "execution_count": 14,
   "metadata": {},
   "outputs": [],
   "source": [
    "# feature_eng\n",
    "paragraph_fea = ['paragraph_len','paragraph_sentence_cnt','paragraph_word_cnt']\n",
    "def Paragraph_Eng(train_tmp):\n",
    "    aggs = [\n",
    "        # Count the number of paragraph lengths greater than and less than the i-value\n",
    "        *[pl.col('paragraph').filter(pl.col('paragraph_len') >= i).count().alias(f\"paragraph_{i}_cnt\") for i in [50,75,100,125,150,175,200,250,300,350,400,500,600,700] ], \n",
    "        *[pl.col('paragraph').filter(pl.col('paragraph_len') <= i).count().alias(f\"paragraph_{i}_cnt\") for i in [25,49]], \n",
    "        # other\n",
    "        *[pl.col(fea).max().alias(f\"{fea}_max\") for fea in paragraph_fea],\n",
    "        *[pl.col(fea).mean().alias(f\"{fea}_mean\") for fea in paragraph_fea],\n",
    "        *[pl.col(fea).min().alias(f\"{fea}_min\") for fea in paragraph_fea],\n",
    "        *[pl.col(fea).first().alias(f\"{fea}_first\") for fea in paragraph_fea],\n",
    "        *[pl.col(fea).last().alias(f\"{fea}_last\") for fea in paragraph_fea],\n",
    "    ]\n",
    "    df = train_tmp.group_by(['essay_id'], maintain_order=True).agg(aggs).sort(\"essay_id\")\n",
    "    df = df.to_pandas()\n",
    "    return df"
   ]
  },
  {
   "cell_type": "code",
   "execution_count": 15,
   "metadata": {},
   "outputs": [
    {
     "name": "stderr",
     "output_type": "stream",
     "text": [
      "C:\\Users\\EdgarAguilera\\AppData\\Local\\Temp\\ipykernel_13196\\1979788184.py:7: MapWithoutReturnDtypeWarning: Calling `map_elements` without specifying `return_dtype` can lead to unpredictable results. Specify `return_dtype` to silence this warning.\n",
      "  tmp = tmp.with_columns(pl.col('paragraph').map_elements(dataPreprocessing))\n",
      "C:\\Users\\EdgarAguilera\\AppData\\Local\\Temp\\ipykernel_13196\\1979788184.py:10: MapWithoutReturnDtypeWarning: Calling `map_elements` without specifying `return_dtype` can lead to unpredictable results. Specify `return_dtype` to silence this warning.\n",
      "  tmp = tmp.with_columns(pl.col('paragraph').map_elements(lambda x: len(x)).alias(\"paragraph_len\"))\n",
      "sys:1: MapWithoutReturnDtypeWarning: Calling `map_elements` without specifying `return_dtype` can lead to unpredictable results. Specify `return_dtype` to silence this warning.\n",
      "sys:1: MapWithoutReturnDtypeWarning: Calling `map_elements` without specifying `return_dtype` can lead to unpredictable results. Specify `return_dtype` to silence this warning.\n"
     ]
    },
    {
     "name": "stdout",
     "output_type": "stream",
     "text": [
      "Features Number:  31\n"
     ]
    },
    {
     "data": {
      "text/html": [
       "<div>\n",
       "<style scoped>\n",
       "    .dataframe tbody tr th:only-of-type {\n",
       "        vertical-align: middle;\n",
       "    }\n",
       "\n",
       "    .dataframe tbody tr th {\n",
       "        vertical-align: top;\n",
       "    }\n",
       "\n",
       "    .dataframe thead th {\n",
       "        text-align: right;\n",
       "    }\n",
       "</style>\n",
       "<table border=\"1\" class=\"dataframe\">\n",
       "  <thead>\n",
       "    <tr style=\"text-align: right;\">\n",
       "      <th></th>\n",
       "      <th>essay_id</th>\n",
       "      <th>paragraph_50_cnt</th>\n",
       "      <th>paragraph_75_cnt</th>\n",
       "      <th>paragraph_100_cnt</th>\n",
       "      <th>paragraph_125_cnt</th>\n",
       "      <th>paragraph_150_cnt</th>\n",
       "      <th>paragraph_175_cnt</th>\n",
       "      <th>paragraph_200_cnt</th>\n",
       "      <th>paragraph_250_cnt</th>\n",
       "      <th>paragraph_300_cnt</th>\n",
       "      <th>...</th>\n",
       "      <th>paragraph_word_cnt_mean</th>\n",
       "      <th>paragraph_len_min</th>\n",
       "      <th>paragraph_sentence_cnt_min</th>\n",
       "      <th>paragraph_word_cnt_min</th>\n",
       "      <th>paragraph_len_first</th>\n",
       "      <th>paragraph_sentence_cnt_first</th>\n",
       "      <th>paragraph_word_cnt_first</th>\n",
       "      <th>paragraph_len_last</th>\n",
       "      <th>paragraph_sentence_cnt_last</th>\n",
       "      <th>paragraph_word_cnt_last</th>\n",
       "    </tr>\n",
       "  </thead>\n",
       "  <tbody>\n",
       "    <tr>\n",
       "      <th>0</th>\n",
       "      <td>000d118</td>\n",
       "      <td>1</td>\n",
       "      <td>1</td>\n",
       "      <td>1</td>\n",
       "      <td>1</td>\n",
       "      <td>1</td>\n",
       "      <td>1</td>\n",
       "      <td>1</td>\n",
       "      <td>1</td>\n",
       "      <td>1</td>\n",
       "      <td>...</td>\n",
       "      <td>491.000000</td>\n",
       "      <td>2640</td>\n",
       "      <td>14</td>\n",
       "      <td>491</td>\n",
       "      <td>2640</td>\n",
       "      <td>14</td>\n",
       "      <td>491</td>\n",
       "      <td>2640</td>\n",
       "      <td>14</td>\n",
       "      <td>491</td>\n",
       "    </tr>\n",
       "    <tr>\n",
       "      <th>1</th>\n",
       "      <td>000fe60</td>\n",
       "      <td>5</td>\n",
       "      <td>5</td>\n",
       "      <td>5</td>\n",
       "      <td>5</td>\n",
       "      <td>5</td>\n",
       "      <td>5</td>\n",
       "      <td>4</td>\n",
       "      <td>3</td>\n",
       "      <td>3</td>\n",
       "      <td>...</td>\n",
       "      <td>66.400000</td>\n",
       "      <td>184</td>\n",
       "      <td>3</td>\n",
       "      <td>37</td>\n",
       "      <td>184</td>\n",
       "      <td>4</td>\n",
       "      <td>37</td>\n",
       "      <td>235</td>\n",
       "      <td>3</td>\n",
       "      <td>46</td>\n",
       "    </tr>\n",
       "    <tr>\n",
       "      <th>2</th>\n",
       "      <td>001ab80</td>\n",
       "      <td>4</td>\n",
       "      <td>4</td>\n",
       "      <td>4</td>\n",
       "      <td>4</td>\n",
       "      <td>4</td>\n",
       "      <td>4</td>\n",
       "      <td>4</td>\n",
       "      <td>4</td>\n",
       "      <td>4</td>\n",
       "      <td>...</td>\n",
       "      <td>137.500000</td>\n",
       "      <td>476</td>\n",
       "      <td>5</td>\n",
       "      <td>85</td>\n",
       "      <td>576</td>\n",
       "      <td>5</td>\n",
       "      <td>101</td>\n",
       "      <td>476</td>\n",
       "      <td>5</td>\n",
       "      <td>85</td>\n",
       "    </tr>\n",
       "    <tr>\n",
       "      <th>3</th>\n",
       "      <td>001bdc0</td>\n",
       "      <td>5</td>\n",
       "      <td>5</td>\n",
       "      <td>5</td>\n",
       "      <td>5</td>\n",
       "      <td>4</td>\n",
       "      <td>4</td>\n",
       "      <td>4</td>\n",
       "      <td>4</td>\n",
       "      <td>4</td>\n",
       "      <td>...</td>\n",
       "      <td>89.200000</td>\n",
       "      <td>129</td>\n",
       "      <td>2</td>\n",
       "      <td>25</td>\n",
       "      <td>395</td>\n",
       "      <td>2</td>\n",
       "      <td>64</td>\n",
       "      <td>366</td>\n",
       "      <td>5</td>\n",
       "      <td>67</td>\n",
       "    </tr>\n",
       "    <tr>\n",
       "      <th>4</th>\n",
       "      <td>002ba53</td>\n",
       "      <td>4</td>\n",
       "      <td>4</td>\n",
       "      <td>4</td>\n",
       "      <td>4</td>\n",
       "      <td>4</td>\n",
       "      <td>4</td>\n",
       "      <td>4</td>\n",
       "      <td>4</td>\n",
       "      <td>4</td>\n",
       "      <td>...</td>\n",
       "      <td>62.166667</td>\n",
       "      <td>17</td>\n",
       "      <td>1</td>\n",
       "      <td>2</td>\n",
       "      <td>19</td>\n",
       "      <td>1</td>\n",
       "      <td>3</td>\n",
       "      <td>17</td>\n",
       "      <td>1</td>\n",
       "      <td>2</td>\n",
       "    </tr>\n",
       "  </tbody>\n",
       "</table>\n",
       "<p>5 rows × 32 columns</p>\n",
       "</div>"
      ],
      "text/plain": [
       "  essay_id  paragraph_50_cnt  paragraph_75_cnt  paragraph_100_cnt  \\\n",
       "0  000d118                 1                 1                  1   \n",
       "1  000fe60                 5                 5                  5   \n",
       "2  001ab80                 4                 4                  4   \n",
       "3  001bdc0                 5                 5                  5   \n",
       "4  002ba53                 4                 4                  4   \n",
       "\n",
       "   paragraph_125_cnt  paragraph_150_cnt  paragraph_175_cnt  paragraph_200_cnt  \\\n",
       "0                  1                  1                  1                  1   \n",
       "1                  5                  5                  5                  4   \n",
       "2                  4                  4                  4                  4   \n",
       "3                  5                  4                  4                  4   \n",
       "4                  4                  4                  4                  4   \n",
       "\n",
       "   paragraph_250_cnt  paragraph_300_cnt  ...  paragraph_word_cnt_mean  \\\n",
       "0                  1                  1  ...               491.000000   \n",
       "1                  3                  3  ...                66.400000   \n",
       "2                  4                  4  ...               137.500000   \n",
       "3                  4                  4  ...                89.200000   \n",
       "4                  4                  4  ...                62.166667   \n",
       "\n",
       "   paragraph_len_min  paragraph_sentence_cnt_min  paragraph_word_cnt_min  \\\n",
       "0               2640                          14                     491   \n",
       "1                184                           3                      37   \n",
       "2                476                           5                      85   \n",
       "3                129                           2                      25   \n",
       "4                 17                           1                       2   \n",
       "\n",
       "   paragraph_len_first  paragraph_sentence_cnt_first  \\\n",
       "0                 2640                            14   \n",
       "1                  184                             4   \n",
       "2                  576                             5   \n",
       "3                  395                             2   \n",
       "4                   19                             1   \n",
       "\n",
       "   paragraph_word_cnt_first  paragraph_len_last  paragraph_sentence_cnt_last  \\\n",
       "0                       491                2640                           14   \n",
       "1                        37                 235                            3   \n",
       "2                       101                 476                            5   \n",
       "3                        64                 366                            5   \n",
       "4                         3                  17                            1   \n",
       "\n",
       "   paragraph_word_cnt_last  \n",
       "0                      491  \n",
       "1                       46  \n",
       "2                       85  \n",
       "3                       67  \n",
       "4                        2  \n",
       "\n",
       "[5 rows x 32 columns]"
      ]
     },
     "execution_count": 15,
     "metadata": {},
     "output_type": "execute_result"
    }
   ],
   "source": [
    "tmp = Paragraph_Preprocess(train)\n",
    "train_feats = Paragraph_Eng(tmp)\n",
    "\n",
    "# Obtain feature names\n",
    "feature_names = list(filter(lambda x: x not in ['essay_id','score'], train_feats.columns))\n",
    "print('Features Number: ',len(feature_names))\n",
    "train_feats.head(5)"
   ]
  },
  {
   "cell_type": "code",
   "execution_count": 16,
   "metadata": {},
   "outputs": [
    {
     "data": {
      "text/plain": [
       "Index(['essay_id', 'paragraph_50_cnt', 'paragraph_75_cnt', 'paragraph_100_cnt',\n",
       "       'paragraph_125_cnt', 'paragraph_150_cnt', 'paragraph_175_cnt',\n",
       "       'paragraph_200_cnt', 'paragraph_250_cnt', 'paragraph_300_cnt',\n",
       "       'paragraph_350_cnt', 'paragraph_400_cnt', 'paragraph_500_cnt',\n",
       "       'paragraph_600_cnt', 'paragraph_700_cnt', 'paragraph_25_cnt',\n",
       "       'paragraph_49_cnt', 'paragraph_len_max', 'paragraph_sentence_cnt_max',\n",
       "       'paragraph_word_cnt_max', 'paragraph_len_mean',\n",
       "       'paragraph_sentence_cnt_mean', 'paragraph_word_cnt_mean',\n",
       "       'paragraph_len_min', 'paragraph_sentence_cnt_min',\n",
       "       'paragraph_word_cnt_min', 'paragraph_len_first',\n",
       "       'paragraph_sentence_cnt_first', 'paragraph_word_cnt_first',\n",
       "       'paragraph_len_last', 'paragraph_sentence_cnt_last',\n",
       "       'paragraph_word_cnt_last'],\n",
       "      dtype='object')"
      ]
     },
     "execution_count": 16,
     "metadata": {},
     "output_type": "execute_result"
    }
   ],
   "source": [
    "train_feats.keys()"
   ]
  },
  {
   "cell_type": "markdown",
   "metadata": {},
   "source": [
    "## Sentence"
   ]
  },
  {
   "cell_type": "code",
   "execution_count": 17,
   "metadata": {},
   "outputs": [],
   "source": [
    "# sentence feature\n",
    "def Sentence_Preprocess(tmp):\n",
    "    # Preprocess full_text and use periods to segment sentences in the text\n",
    "    tmp = tmp.with_columns(pl.col('full_text').map_elements(dataPreprocessing).str.split(by=\".\").alias(\"sentence\"))\n",
    "    tmp = tmp.explode('sentence')\n",
    "\n",
    "    # Calculate the length of a sentence\n",
    "    tmp = tmp.with_columns(pl.col('sentence').map_elements(lambda x: len(x)).alias(\"sentence_len\"))\n",
    "\n",
    "    # Filter out the portion of data with a sentence length greater than 15\n",
    "    tmp = tmp.filter(pl.col('sentence_len')>=15)\n",
    "    \n",
    "    # Count the number of words in each sentence\n",
    "    tmp = tmp.with_columns(pl.col('sentence').map_elements(lambda x: len(x.split(' '))).alias(\"sentence_word_cnt\"))\n",
    "    return tmp"
   ]
  },
  {
   "cell_type": "code",
   "execution_count": 18,
   "metadata": {},
   "outputs": [],
   "source": [
    "# feature_eng\n",
    "sentence_fea = ['sentence_len','sentence_word_cnt']\n",
    "def Sentence_Eng(train_tmp):\n",
    "    aggs = [\n",
    "        # Count the number of sentences with a length greater than i\n",
    "        *[pl.col('sentence').filter(pl.col('sentence_len') >= i).count().alias(f\"sentence_{i}_cnt\") for i in [15,50,100,150,200,250,300] ], \n",
    "        # other\n",
    "        *[pl.col(fea).max().alias(f\"{fea}_max\") for fea in sentence_fea],\n",
    "        *[pl.col(fea).mean().alias(f\"{fea}_mean\") for fea in sentence_fea],\n",
    "        *[pl.col(fea).min().alias(f\"{fea}_min\") for fea in sentence_fea],\n",
    "        *[pl.col(fea).first().alias(f\"{fea}_first\") for fea in sentence_fea],\n",
    "        *[pl.col(fea).last().alias(f\"{fea}_last\") for fea in sentence_fea],\n",
    "        ]\n",
    "    df = train_tmp.group_by(['essay_id'], maintain_order=True).agg(aggs).sort(\"essay_id\")\n",
    "    df = df.to_pandas()\n",
    "    return df"
   ]
  },
  {
   "cell_type": "code",
   "execution_count": 19,
   "metadata": {},
   "outputs": [
    {
     "name": "stderr",
     "output_type": "stream",
     "text": [
      "sys:1: MapWithoutReturnDtypeWarning: Calling `map_elements` without specifying `return_dtype` can lead to unpredictable results. Specify `return_dtype` to silence this warning.\n",
      "C:\\Users\\EdgarAguilera\\AppData\\Local\\Temp\\ipykernel_13196\\3767564124.py:8: MapWithoutReturnDtypeWarning: Calling `map_elements` without specifying `return_dtype` can lead to unpredictable results. Specify `return_dtype` to silence this warning.\n",
      "  tmp = tmp.with_columns(pl.col('sentence').map_elements(lambda x: len(x)).alias(\"sentence_len\"))\n",
      "C:\\Users\\EdgarAguilera\\AppData\\Local\\Temp\\ipykernel_13196\\3767564124.py:14: MapWithoutReturnDtypeWarning: Calling `map_elements` without specifying `return_dtype` can lead to unpredictable results. Specify `return_dtype` to silence this warning.\n",
      "  tmp = tmp.with_columns(pl.col('sentence').map_elements(lambda x: len(x.split(' '))).alias(\"sentence_word_cnt\"))\n"
     ]
    },
    {
     "name": "stdout",
     "output_type": "stream",
     "text": [
      "Features Number:  48\n"
     ]
    },
    {
     "data": {
      "text/html": [
       "<div>\n",
       "<style scoped>\n",
       "    .dataframe tbody tr th:only-of-type {\n",
       "        vertical-align: middle;\n",
       "    }\n",
       "\n",
       "    .dataframe tbody tr th {\n",
       "        vertical-align: top;\n",
       "    }\n",
       "\n",
       "    .dataframe thead th {\n",
       "        text-align: right;\n",
       "    }\n",
       "</style>\n",
       "<table border=\"1\" class=\"dataframe\">\n",
       "  <thead>\n",
       "    <tr style=\"text-align: right;\">\n",
       "      <th></th>\n",
       "      <th>essay_id</th>\n",
       "      <th>paragraph_50_cnt</th>\n",
       "      <th>paragraph_75_cnt</th>\n",
       "      <th>paragraph_100_cnt</th>\n",
       "      <th>paragraph_125_cnt</th>\n",
       "      <th>paragraph_150_cnt</th>\n",
       "      <th>paragraph_175_cnt</th>\n",
       "      <th>paragraph_200_cnt</th>\n",
       "      <th>paragraph_250_cnt</th>\n",
       "      <th>paragraph_300_cnt</th>\n",
       "      <th>...</th>\n",
       "      <th>sentence_len_max</th>\n",
       "      <th>sentence_word_cnt_max</th>\n",
       "      <th>sentence_len_mean</th>\n",
       "      <th>sentence_word_cnt_mean</th>\n",
       "      <th>sentence_len_min</th>\n",
       "      <th>sentence_word_cnt_min</th>\n",
       "      <th>sentence_len_first</th>\n",
       "      <th>sentence_word_cnt_first</th>\n",
       "      <th>sentence_len_last</th>\n",
       "      <th>sentence_word_cnt_last</th>\n",
       "    </tr>\n",
       "  </thead>\n",
       "  <tbody>\n",
       "    <tr>\n",
       "      <th>0</th>\n",
       "      <td>000d118</td>\n",
       "      <td>1</td>\n",
       "      <td>1</td>\n",
       "      <td>1</td>\n",
       "      <td>1</td>\n",
       "      <td>1</td>\n",
       "      <td>1</td>\n",
       "      <td>1</td>\n",
       "      <td>1</td>\n",
       "      <td>1</td>\n",
       "      <td>...</td>\n",
       "      <td>593</td>\n",
       "      <td>127</td>\n",
       "      <td>202.076923</td>\n",
       "      <td>38.692308</td>\n",
       "      <td>36</td>\n",
       "      <td>7</td>\n",
       "      <td>36</td>\n",
       "      <td>7</td>\n",
       "      <td>47</td>\n",
       "      <td>10</td>\n",
       "    </tr>\n",
       "    <tr>\n",
       "      <th>1</th>\n",
       "      <td>000fe60</td>\n",
       "      <td>5</td>\n",
       "      <td>5</td>\n",
       "      <td>5</td>\n",
       "      <td>5</td>\n",
       "      <td>5</td>\n",
       "      <td>5</td>\n",
       "      <td>4</td>\n",
       "      <td>3</td>\n",
       "      <td>3</td>\n",
       "      <td>...</td>\n",
       "      <td>250</td>\n",
       "      <td>49</td>\n",
       "      <td>96.823529</td>\n",
       "      <td>20.470588</td>\n",
       "      <td>27</td>\n",
       "      <td>7</td>\n",
       "      <td>62</td>\n",
       "      <td>13</td>\n",
       "      <td>124</td>\n",
       "      <td>25</td>\n",
       "    </tr>\n",
       "    <tr>\n",
       "      <th>2</th>\n",
       "      <td>001ab80</td>\n",
       "      <td>4</td>\n",
       "      <td>4</td>\n",
       "      <td>4</td>\n",
       "      <td>4</td>\n",
       "      <td>4</td>\n",
       "      <td>4</td>\n",
       "      <td>4</td>\n",
       "      <td>4</td>\n",
       "      <td>4</td>\n",
       "      <td>...</td>\n",
       "      <td>237</td>\n",
       "      <td>47</td>\n",
       "      <td>126.708333</td>\n",
       "      <td>23.875000</td>\n",
       "      <td>58</td>\n",
       "      <td>10</td>\n",
       "      <td>144</td>\n",
       "      <td>27</td>\n",
       "      <td>58</td>\n",
       "      <td>10</td>\n",
       "    </tr>\n",
       "  </tbody>\n",
       "</table>\n",
       "<p>3 rows × 49 columns</p>\n",
       "</div>"
      ],
      "text/plain": [
       "  essay_id  paragraph_50_cnt  paragraph_75_cnt  paragraph_100_cnt  \\\n",
       "0  000d118                 1                 1                  1   \n",
       "1  000fe60                 5                 5                  5   \n",
       "2  001ab80                 4                 4                  4   \n",
       "\n",
       "   paragraph_125_cnt  paragraph_150_cnt  paragraph_175_cnt  paragraph_200_cnt  \\\n",
       "0                  1                  1                  1                  1   \n",
       "1                  5                  5                  5                  4   \n",
       "2                  4                  4                  4                  4   \n",
       "\n",
       "   paragraph_250_cnt  paragraph_300_cnt  ...  sentence_len_max  \\\n",
       "0                  1                  1  ...               593   \n",
       "1                  3                  3  ...               250   \n",
       "2                  4                  4  ...               237   \n",
       "\n",
       "   sentence_word_cnt_max  sentence_len_mean  sentence_word_cnt_mean  \\\n",
       "0                    127         202.076923               38.692308   \n",
       "1                     49          96.823529               20.470588   \n",
       "2                     47         126.708333               23.875000   \n",
       "\n",
       "   sentence_len_min  sentence_word_cnt_min  sentence_len_first  \\\n",
       "0                36                      7                  36   \n",
       "1                27                      7                  62   \n",
       "2                58                     10                 144   \n",
       "\n",
       "   sentence_word_cnt_first  sentence_len_last  sentence_word_cnt_last  \n",
       "0                        7                 47                      10  \n",
       "1                       13                124                      25  \n",
       "2                       27                 58                      10  \n",
       "\n",
       "[3 rows x 49 columns]"
      ]
     },
     "execution_count": 19,
     "metadata": {},
     "output_type": "execute_result"
    }
   ],
   "source": [
    "tmp = Sentence_Preprocess(train)\n",
    "\n",
    "# Merge the newly generated feature data with the previously generated feature data\n",
    "train_feats = train_feats.merge(Sentence_Eng(tmp), on='essay_id', how='left')\n",
    "\n",
    "feature_names = list(filter(lambda x: x not in ['essay_id','score'], train_feats.columns))\n",
    "print('Features Number: ',len(feature_names))\n",
    "train_feats.head(3)"
   ]
  },
  {
   "cell_type": "code",
   "execution_count": 20,
   "metadata": {},
   "outputs": [
    {
     "data": {
      "text/plain": [
       "Index(['essay_id', 'paragraph_50_cnt', 'paragraph_75_cnt', 'paragraph_100_cnt',\n",
       "       'paragraph_125_cnt', 'paragraph_150_cnt', 'paragraph_175_cnt',\n",
       "       'paragraph_200_cnt', 'paragraph_250_cnt', 'paragraph_300_cnt',\n",
       "       'paragraph_350_cnt', 'paragraph_400_cnt', 'paragraph_500_cnt',\n",
       "       'paragraph_600_cnt', 'paragraph_700_cnt', 'paragraph_25_cnt',\n",
       "       'paragraph_49_cnt', 'paragraph_len_max', 'paragraph_sentence_cnt_max',\n",
       "       'paragraph_word_cnt_max', 'paragraph_len_mean',\n",
       "       'paragraph_sentence_cnt_mean', 'paragraph_word_cnt_mean',\n",
       "       'paragraph_len_min', 'paragraph_sentence_cnt_min',\n",
       "       'paragraph_word_cnt_min', 'paragraph_len_first',\n",
       "       'paragraph_sentence_cnt_first', 'paragraph_word_cnt_first',\n",
       "       'paragraph_len_last', 'paragraph_sentence_cnt_last',\n",
       "       'paragraph_word_cnt_last', 'sentence_15_cnt', 'sentence_50_cnt',\n",
       "       'sentence_100_cnt', 'sentence_150_cnt', 'sentence_200_cnt',\n",
       "       'sentence_250_cnt', 'sentence_300_cnt', 'sentence_len_max',\n",
       "       'sentence_word_cnt_max', 'sentence_len_mean', 'sentence_word_cnt_mean',\n",
       "       'sentence_len_min', 'sentence_word_cnt_min', 'sentence_len_first',\n",
       "       'sentence_word_cnt_first', 'sentence_len_last',\n",
       "       'sentence_word_cnt_last'],\n",
       "      dtype='object')"
      ]
     },
     "execution_count": 20,
     "metadata": {},
     "output_type": "execute_result"
    }
   ],
   "source": [
    "train_feats.keys()"
   ]
  },
  {
   "cell_type": "markdown",
   "metadata": {},
   "source": [
    "## Word"
   ]
  },
  {
   "cell_type": "code",
   "execution_count": 21,
   "metadata": {},
   "outputs": [],
   "source": [
    "# word feature\n",
    "def Word_Preprocess(tmp):\n",
    "    # Preprocess full_text and use spaces to separate words from the text\n",
    "    tmp = tmp.with_columns(pl.col('full_text').map_elements(dataPreprocessing).str.split(by=\" \").alias(\"word\"))\n",
    "    tmp = tmp.explode('word')\n",
    "    # Calculate the length of each word\n",
    "    tmp = tmp.with_columns(pl.col('word').map_elements(lambda x: len(x)).alias(\"word_len\"))\n",
    "    # Delete data with a word length of 0\n",
    "    tmp = tmp.filter(pl.col('word_len')!=0)\n",
    "    \n",
    "    return tmp"
   ]
  },
  {
   "cell_type": "code",
   "execution_count": 22,
   "metadata": {},
   "outputs": [],
   "source": [
    "# feature_eng\n",
    "def Word_Eng(train_tmp):\n",
    "    aggs = [\n",
    "        # Count the number of words with a length greater than i+1\n",
    "        *[pl.col('word').filter(pl.col('word_len') >= i+1).count().alias(f\"word_{i+1}_cnt\") for i in range(15) ], \n",
    "        # other\n",
    "        pl.col('word_len').max().alias(f\"word_len_max\"),\n",
    "        pl.col('word_len').mean().alias(f\"word_len_mean\"),\n",
    "        pl.col('word_len').std().alias(f\"word_len_std\"),\n",
    "        pl.col('word_len').quantile(0.25).alias(f\"word_len_q1\"),\n",
    "        pl.col('word_len').quantile(0.50).alias(f\"word_len_q2\"),\n",
    "        pl.col('word_len').quantile(0.75).alias(f\"word_len_q3\"),\n",
    "        ]\n",
    "    df = train_tmp.group_by(['essay_id'], maintain_order=True).agg(aggs).sort(\"essay_id\")\n",
    "    df = df.to_pandas()\n",
    "    return df"
   ]
  },
  {
   "cell_type": "code",
   "execution_count": 23,
   "metadata": {},
   "outputs": [
    {
     "name": "stderr",
     "output_type": "stream",
     "text": [
      "sys:1: MapWithoutReturnDtypeWarning: Calling `map_elements` without specifying `return_dtype` can lead to unpredictable results. Specify `return_dtype` to silence this warning.\n",
      "C:\\Users\\EdgarAguilera\\AppData\\Local\\Temp\\ipykernel_13196\\3378694203.py:7: MapWithoutReturnDtypeWarning: Calling `map_elements` without specifying `return_dtype` can lead to unpredictable results. Specify `return_dtype` to silence this warning.\n",
      "  tmp = tmp.with_columns(pl.col('word').map_elements(lambda x: len(x)).alias(\"word_len\"))\n"
     ]
    },
    {
     "name": "stdout",
     "output_type": "stream",
     "text": [
      "Features Number:  69\n"
     ]
    },
    {
     "data": {
      "text/html": [
       "<div>\n",
       "<style scoped>\n",
       "    .dataframe tbody tr th:only-of-type {\n",
       "        vertical-align: middle;\n",
       "    }\n",
       "\n",
       "    .dataframe tbody tr th {\n",
       "        vertical-align: top;\n",
       "    }\n",
       "\n",
       "    .dataframe thead th {\n",
       "        text-align: right;\n",
       "    }\n",
       "</style>\n",
       "<table border=\"1\" class=\"dataframe\">\n",
       "  <thead>\n",
       "    <tr style=\"text-align: right;\">\n",
       "      <th></th>\n",
       "      <th>essay_id</th>\n",
       "      <th>paragraph_50_cnt</th>\n",
       "      <th>paragraph_75_cnt</th>\n",
       "      <th>paragraph_100_cnt</th>\n",
       "      <th>paragraph_125_cnt</th>\n",
       "      <th>paragraph_150_cnt</th>\n",
       "      <th>paragraph_175_cnt</th>\n",
       "      <th>paragraph_200_cnt</th>\n",
       "      <th>paragraph_250_cnt</th>\n",
       "      <th>paragraph_300_cnt</th>\n",
       "      <th>...</th>\n",
       "      <th>word_12_cnt</th>\n",
       "      <th>word_13_cnt</th>\n",
       "      <th>word_14_cnt</th>\n",
       "      <th>word_15_cnt</th>\n",
       "      <th>word_len_max</th>\n",
       "      <th>word_len_mean</th>\n",
       "      <th>word_len_std</th>\n",
       "      <th>word_len_q1</th>\n",
       "      <th>word_len_q2</th>\n",
       "      <th>word_len_q3</th>\n",
       "    </tr>\n",
       "  </thead>\n",
       "  <tbody>\n",
       "    <tr>\n",
       "      <th>0</th>\n",
       "      <td>000d118</td>\n",
       "      <td>1</td>\n",
       "      <td>1</td>\n",
       "      <td>1</td>\n",
       "      <td>1</td>\n",
       "      <td>1</td>\n",
       "      <td>1</td>\n",
       "      <td>1</td>\n",
       "      <td>1</td>\n",
       "      <td>1</td>\n",
       "      <td>...</td>\n",
       "      <td>6</td>\n",
       "      <td>6</td>\n",
       "      <td>5</td>\n",
       "      <td>2</td>\n",
       "      <td>25</td>\n",
       "      <td>4.378819</td>\n",
       "      <td>2.538495</td>\n",
       "      <td>3.0</td>\n",
       "      <td>4.0</td>\n",
       "      <td>5.0</td>\n",
       "    </tr>\n",
       "    <tr>\n",
       "      <th>1</th>\n",
       "      <td>000fe60</td>\n",
       "      <td>5</td>\n",
       "      <td>5</td>\n",
       "      <td>5</td>\n",
       "      <td>5</td>\n",
       "      <td>5</td>\n",
       "      <td>5</td>\n",
       "      <td>4</td>\n",
       "      <td>3</td>\n",
       "      <td>3</td>\n",
       "      <td>...</td>\n",
       "      <td>0</td>\n",
       "      <td>0</td>\n",
       "      <td>0</td>\n",
       "      <td>0</td>\n",
       "      <td>11</td>\n",
       "      <td>4.012048</td>\n",
       "      <td>2.060968</td>\n",
       "      <td>2.0</td>\n",
       "      <td>4.0</td>\n",
       "      <td>5.0</td>\n",
       "    </tr>\n",
       "    <tr>\n",
       "      <th>2</th>\n",
       "      <td>001ab80</td>\n",
       "      <td>4</td>\n",
       "      <td>4</td>\n",
       "      <td>4</td>\n",
       "      <td>4</td>\n",
       "      <td>4</td>\n",
       "      <td>4</td>\n",
       "      <td>4</td>\n",
       "      <td>4</td>\n",
       "      <td>4</td>\n",
       "      <td>...</td>\n",
       "      <td>14</td>\n",
       "      <td>10</td>\n",
       "      <td>5</td>\n",
       "      <td>2</td>\n",
       "      <td>15</td>\n",
       "      <td>4.574545</td>\n",
       "      <td>2.604621</td>\n",
       "      <td>3.0</td>\n",
       "      <td>4.0</td>\n",
       "      <td>5.0</td>\n",
       "    </tr>\n",
       "  </tbody>\n",
       "</table>\n",
       "<p>3 rows × 70 columns</p>\n",
       "</div>"
      ],
      "text/plain": [
       "  essay_id  paragraph_50_cnt  paragraph_75_cnt  paragraph_100_cnt  \\\n",
       "0  000d118                 1                 1                  1   \n",
       "1  000fe60                 5                 5                  5   \n",
       "2  001ab80                 4                 4                  4   \n",
       "\n",
       "   paragraph_125_cnt  paragraph_150_cnt  paragraph_175_cnt  paragraph_200_cnt  \\\n",
       "0                  1                  1                  1                  1   \n",
       "1                  5                  5                  5                  4   \n",
       "2                  4                  4                  4                  4   \n",
       "\n",
       "   paragraph_250_cnt  paragraph_300_cnt  ...  word_12_cnt  word_13_cnt  \\\n",
       "0                  1                  1  ...            6            6   \n",
       "1                  3                  3  ...            0            0   \n",
       "2                  4                  4  ...           14           10   \n",
       "\n",
       "   word_14_cnt  word_15_cnt  word_len_max  word_len_mean  word_len_std  \\\n",
       "0            5            2            25       4.378819      2.538495   \n",
       "1            0            0            11       4.012048      2.060968   \n",
       "2            5            2            15       4.574545      2.604621   \n",
       "\n",
       "   word_len_q1  word_len_q2  word_len_q3  \n",
       "0          3.0          4.0          5.0  \n",
       "1          2.0          4.0          5.0  \n",
       "2          3.0          4.0          5.0  \n",
       "\n",
       "[3 rows x 70 columns]"
      ]
     },
     "execution_count": 23,
     "metadata": {},
     "output_type": "execute_result"
    }
   ],
   "source": [
    "tmp = Word_Preprocess(train)\n",
    "\n",
    "# Merge the newly generated feature data with the previously generated feature data\n",
    "train_feats = train_feats.merge(Word_Eng(tmp), on='essay_id', how='left')\n",
    "\n",
    "feature_names = list(filter(lambda x: x not in ['essay_id','score'], train_feats.columns))\n",
    "print('Features Number: ',len(feature_names))\n",
    "train_feats.head(3)"
   ]
  },
  {
   "cell_type": "markdown",
   "metadata": {},
   "source": [
    "# Classification"
   ]
  },
  {
   "cell_type": "code",
   "execution_count": 24,
   "metadata": {},
   "outputs": [
    {
     "data": {
      "text/plain": [
       "Index(['essay_id', 'paragraph_50_cnt', 'paragraph_75_cnt', 'paragraph_100_cnt',\n",
       "       'paragraph_125_cnt', 'paragraph_150_cnt', 'paragraph_175_cnt',\n",
       "       'paragraph_200_cnt', 'paragraph_250_cnt', 'paragraph_300_cnt',\n",
       "       'paragraph_350_cnt', 'paragraph_400_cnt', 'paragraph_500_cnt',\n",
       "       'paragraph_600_cnt', 'paragraph_700_cnt', 'paragraph_25_cnt',\n",
       "       'paragraph_49_cnt', 'paragraph_len_max', 'paragraph_sentence_cnt_max',\n",
       "       'paragraph_word_cnt_max', 'paragraph_len_mean',\n",
       "       'paragraph_sentence_cnt_mean', 'paragraph_word_cnt_mean',\n",
       "       'paragraph_len_min', 'paragraph_sentence_cnt_min',\n",
       "       'paragraph_word_cnt_min', 'paragraph_len_first',\n",
       "       'paragraph_sentence_cnt_first', 'paragraph_word_cnt_first',\n",
       "       'paragraph_len_last', 'paragraph_sentence_cnt_last',\n",
       "       'paragraph_word_cnt_last', 'sentence_15_cnt', 'sentence_50_cnt',\n",
       "       'sentence_100_cnt', 'sentence_150_cnt', 'sentence_200_cnt',\n",
       "       'sentence_250_cnt', 'sentence_300_cnt', 'sentence_len_max',\n",
       "       'sentence_word_cnt_max', 'sentence_len_mean', 'sentence_word_cnt_mean',\n",
       "       'sentence_len_min', 'sentence_word_cnt_min', 'sentence_len_first',\n",
       "       'sentence_word_cnt_first', 'sentence_len_last',\n",
       "       'sentence_word_cnt_last', 'word_1_cnt', 'word_2_cnt', 'word_3_cnt',\n",
       "       'word_4_cnt', 'word_5_cnt', 'word_6_cnt', 'word_7_cnt', 'word_8_cnt',\n",
       "       'word_9_cnt', 'word_10_cnt', 'word_11_cnt', 'word_12_cnt',\n",
       "       'word_13_cnt', 'word_14_cnt', 'word_15_cnt', 'word_len_max',\n",
       "       'word_len_mean', 'word_len_std', 'word_len_q1', 'word_len_q2',\n",
       "       'word_len_q3'],\n",
       "      dtype='object')"
      ]
     },
     "execution_count": 24,
     "metadata": {},
     "output_type": "execute_result"
    }
   ],
   "source": [
    "train_feats.keys()"
   ]
  },
  {
   "cell_type": "code",
   "execution_count": 25,
   "metadata": {},
   "outputs": [],
   "source": [
    "X = train_feats.drop(columns=[\"essay_id\"])\n",
    "y = df[\"score\"]\n",
    "X_train, X_test, y_train, y_test = train_test_split(X, y, test_size=0.30, random_state=123, stratify = y)"
   ]
  },
  {
   "cell_type": "code",
   "execution_count": 26,
   "metadata": {},
   "outputs": [],
   "source": [
    "kappa_scorer = make_scorer(cohen_kappa_score, weights=\"quadratic\")"
   ]
  },
  {
   "cell_type": "markdown",
   "metadata": {},
   "source": [
    "## kNN"
   ]
  },
  {
   "cell_type": "code",
   "execution_count": 27,
   "metadata": {},
   "outputs": [
    {
     "name": "stdout",
     "output_type": "stream",
     "text": [
      "Fitting 5 folds for each of 24 candidates, totalling 120 fits\n",
      "[CV 1/5] END metric=minkowski, n_neighbors=1, weights=uniform;, score=0.597 total time=   0.6s\n",
      "[CV 2/5] END metric=minkowski, n_neighbors=1, weights=uniform;, score=0.559 total time=   0.2s\n",
      "[CV 3/5] END metric=minkowski, n_neighbors=1, weights=uniform;, score=0.608 total time=   0.2s\n",
      "[CV 4/5] END metric=minkowski, n_neighbors=1, weights=uniform;, score=0.561 total time=   0.3s\n",
      "[CV 5/5] END metric=minkowski, n_neighbors=1, weights=uniform;, score=0.591 total time=   0.3s\n",
      "[CV 1/5] END metric=minkowski, n_neighbors=1, weights=distance;, score=0.597 total time=   0.1s\n",
      "[CV 2/5] END metric=minkowski, n_neighbors=1, weights=distance;, score=0.559 total time=   0.1s\n",
      "[CV 3/5] END metric=minkowski, n_neighbors=1, weights=distance;, score=0.608 total time=   0.1s\n",
      "[CV 4/5] END metric=minkowski, n_neighbors=1, weights=distance;, score=0.561 total time=   0.1s\n",
      "[CV 5/5] END metric=minkowski, n_neighbors=1, weights=distance;, score=0.591 total time=   0.1s\n",
      "[CV 1/5] END metric=minkowski, n_neighbors=5, weights=uniform;, score=0.644 total time=   0.2s\n",
      "[CV 2/5] END metric=minkowski, n_neighbors=5, weights=uniform;, score=0.614 total time=   0.2s\n",
      "[CV 3/5] END metric=minkowski, n_neighbors=5, weights=uniform;, score=0.660 total time=   0.2s\n",
      "[CV 4/5] END metric=minkowski, n_neighbors=5, weights=uniform;, score=0.615 total time=   0.2s\n",
      "[CV 5/5] END metric=minkowski, n_neighbors=5, weights=uniform;, score=0.626 total time=   0.2s\n",
      "[CV 1/5] END metric=minkowski, n_neighbors=5, weights=distance;, score=0.652 total time=   0.1s\n",
      "[CV 2/5] END metric=minkowski, n_neighbors=5, weights=distance;, score=0.623 total time=   0.1s\n",
      "[CV 3/5] END metric=minkowski, n_neighbors=5, weights=distance;, score=0.673 total time=   0.1s\n",
      "[CV 4/5] END metric=minkowski, n_neighbors=5, weights=distance;, score=0.623 total time=   0.1s\n",
      "[CV 5/5] END metric=minkowski, n_neighbors=5, weights=distance;, score=0.634 total time=   0.1s\n",
      "[CV 1/5] END metric=minkowski, n_neighbors=10, weights=uniform;, score=0.667 total time=   0.2s\n",
      "[CV 2/5] END metric=minkowski, n_neighbors=10, weights=uniform;, score=0.640 total time=   0.2s\n",
      "[CV 3/5] END metric=minkowski, n_neighbors=10, weights=uniform;, score=0.679 total time=   0.2s\n",
      "[CV 4/5] END metric=minkowski, n_neighbors=10, weights=uniform;, score=0.650 total time=   0.2s\n",
      "[CV 5/5] END metric=minkowski, n_neighbors=10, weights=uniform;, score=0.655 total time=   0.2s\n",
      "[CV 1/5] END metric=minkowski, n_neighbors=10, weights=distance;, score=0.667 total time=   0.0s\n",
      "[CV 2/5] END metric=minkowski, n_neighbors=10, weights=distance;, score=0.640 total time=   0.1s\n",
      "[CV 3/5] END metric=minkowski, n_neighbors=10, weights=distance;, score=0.682 total time=   0.1s\n",
      "[CV 4/5] END metric=minkowski, n_neighbors=10, weights=distance;, score=0.653 total time=   0.1s\n",
      "[CV 5/5] END metric=minkowski, n_neighbors=10, weights=distance;, score=0.662 total time=   0.1s\n",
      "[CV 1/5] END metric=minkowski, n_neighbors=15, weights=uniform;, score=0.677 total time=   0.2s\n",
      "[CV 2/5] END metric=minkowski, n_neighbors=15, weights=uniform;, score=0.648 total time=   0.2s\n",
      "[CV 3/5] END metric=minkowski, n_neighbors=15, weights=uniform;, score=0.677 total time=   0.2s\n",
      "[CV 4/5] END metric=minkowski, n_neighbors=15, weights=uniform;, score=0.654 total time=   0.2s\n",
      "[CV 5/5] END metric=minkowski, n_neighbors=15, weights=uniform;, score=0.661 total time=   0.2s\n",
      "[CV 1/5] END metric=minkowski, n_neighbors=15, weights=distance;, score=0.675 total time=   0.1s\n",
      "[CV 2/5] END metric=minkowski, n_neighbors=15, weights=distance;, score=0.651 total time=   0.1s\n",
      "[CV 3/5] END metric=minkowski, n_neighbors=15, weights=distance;, score=0.684 total time=   0.1s\n",
      "[CV 4/5] END metric=minkowski, n_neighbors=15, weights=distance;, score=0.654 total time=   0.1s\n",
      "[CV 5/5] END metric=minkowski, n_neighbors=15, weights=distance;, score=0.666 total time=   0.1s\n",
      "[CV 1/5] END metric=euclidean, n_neighbors=1, weights=uniform;, score=0.597 total time=   0.2s\n",
      "[CV 2/5] END metric=euclidean, n_neighbors=1, weights=uniform;, score=0.559 total time=   0.3s\n",
      "[CV 3/5] END metric=euclidean, n_neighbors=1, weights=uniform;, score=0.608 total time=   0.2s\n",
      "[CV 4/5] END metric=euclidean, n_neighbors=1, weights=uniform;, score=0.561 total time=   0.2s\n",
      "[CV 5/5] END metric=euclidean, n_neighbors=1, weights=uniform;, score=0.591 total time=   0.2s\n",
      "[CV 1/5] END metric=euclidean, n_neighbors=1, weights=distance;, score=0.597 total time=   0.0s\n",
      "[CV 2/5] END metric=euclidean, n_neighbors=1, weights=distance;, score=0.559 total time=   0.1s\n",
      "[CV 3/5] END metric=euclidean, n_neighbors=1, weights=distance;, score=0.608 total time=   0.1s\n",
      "[CV 4/5] END metric=euclidean, n_neighbors=1, weights=distance;, score=0.561 total time=   0.1s\n",
      "[CV 5/5] END metric=euclidean, n_neighbors=1, weights=distance;, score=0.591 total time=   0.1s\n",
      "[CV 1/5] END metric=euclidean, n_neighbors=5, weights=uniform;, score=0.644 total time=   0.2s\n",
      "[CV 2/5] END metric=euclidean, n_neighbors=5, weights=uniform;, score=0.614 total time=   0.2s\n",
      "[CV 3/5] END metric=euclidean, n_neighbors=5, weights=uniform;, score=0.660 total time=   0.2s\n",
      "[CV 4/5] END metric=euclidean, n_neighbors=5, weights=uniform;, score=0.615 total time=   0.2s\n",
      "[CV 5/5] END metric=euclidean, n_neighbors=5, weights=uniform;, score=0.626 total time=   0.2s\n",
      "[CV 1/5] END metric=euclidean, n_neighbors=5, weights=distance;, score=0.652 total time=   0.1s\n",
      "[CV 2/5] END metric=euclidean, n_neighbors=5, weights=distance;, score=0.623 total time=   0.1s\n",
      "[CV 3/5] END metric=euclidean, n_neighbors=5, weights=distance;, score=0.673 total time=   0.1s\n",
      "[CV 4/5] END metric=euclidean, n_neighbors=5, weights=distance;, score=0.623 total time=   0.1s\n",
      "[CV 5/5] END metric=euclidean, n_neighbors=5, weights=distance;, score=0.634 total time=   0.1s\n",
      "[CV 1/5] END metric=euclidean, n_neighbors=10, weights=uniform;, score=0.667 total time=   0.2s\n",
      "[CV 2/5] END metric=euclidean, n_neighbors=10, weights=uniform;, score=0.640 total time=   0.2s\n",
      "[CV 3/5] END metric=euclidean, n_neighbors=10, weights=uniform;, score=0.679 total time=   0.2s\n",
      "[CV 4/5] END metric=euclidean, n_neighbors=10, weights=uniform;, score=0.650 total time=   0.2s\n",
      "[CV 5/5] END metric=euclidean, n_neighbors=10, weights=uniform;, score=0.655 total time=   0.2s\n",
      "[CV 1/5] END metric=euclidean, n_neighbors=10, weights=distance;, score=0.667 total time=   0.1s\n",
      "[CV 2/5] END metric=euclidean, n_neighbors=10, weights=distance;, score=0.640 total time=   0.1s\n",
      "[CV 3/5] END metric=euclidean, n_neighbors=10, weights=distance;, score=0.682 total time=   0.1s\n",
      "[CV 4/5] END metric=euclidean, n_neighbors=10, weights=distance;, score=0.653 total time=   0.1s\n",
      "[CV 5/5] END metric=euclidean, n_neighbors=10, weights=distance;, score=0.662 total time=   0.1s\n",
      "[CV 1/5] END metric=euclidean, n_neighbors=15, weights=uniform;, score=0.677 total time=   0.2s\n",
      "[CV 2/5] END metric=euclidean, n_neighbors=15, weights=uniform;, score=0.648 total time=   0.2s\n",
      "[CV 3/5] END metric=euclidean, n_neighbors=15, weights=uniform;, score=0.677 total time=   0.2s\n",
      "[CV 4/5] END metric=euclidean, n_neighbors=15, weights=uniform;, score=0.654 total time=   0.2s\n",
      "[CV 5/5] END metric=euclidean, n_neighbors=15, weights=uniform;, score=0.661 total time=   0.2s\n",
      "[CV 1/5] END metric=euclidean, n_neighbors=15, weights=distance;, score=0.675 total time=   0.1s\n",
      "[CV 2/5] END metric=euclidean, n_neighbors=15, weights=distance;, score=0.651 total time=   0.1s\n",
      "[CV 3/5] END metric=euclidean, n_neighbors=15, weights=distance;, score=0.684 total time=   0.1s\n",
      "[CV 4/5] END metric=euclidean, n_neighbors=15, weights=distance;, score=0.654 total time=   0.1s\n",
      "[CV 5/5] END metric=euclidean, n_neighbors=15, weights=distance;, score=0.666 total time=   0.1s\n",
      "[CV 1/5] END metric=manhattan, n_neighbors=1, weights=uniform;, score=0.592 total time=   0.7s\n",
      "[CV 2/5] END metric=manhattan, n_neighbors=1, weights=uniform;, score=0.565 total time=   0.6s\n",
      "[CV 3/5] END metric=manhattan, n_neighbors=1, weights=uniform;, score=0.619 total time=   0.6s\n",
      "[CV 4/5] END metric=manhattan, n_neighbors=1, weights=uniform;, score=0.589 total time=   0.6s\n",
      "[CV 5/5] END metric=manhattan, n_neighbors=1, weights=uniform;, score=0.590 total time=   0.6s\n",
      "[CV 1/5] END metric=manhattan, n_neighbors=1, weights=distance;, score=0.592 total time=   0.5s\n",
      "[CV 2/5] END metric=manhattan, n_neighbors=1, weights=distance;, score=0.565 total time=   0.5s\n",
      "[CV 3/5] END metric=manhattan, n_neighbors=1, weights=distance;, score=0.619 total time=   0.6s\n",
      "[CV 4/5] END metric=manhattan, n_neighbors=1, weights=distance;, score=0.589 total time=   0.6s\n",
      "[CV 5/5] END metric=manhattan, n_neighbors=1, weights=distance;, score=0.590 total time=   0.6s\n",
      "[CV 1/5] END metric=manhattan, n_neighbors=5, weights=uniform;, score=0.667 total time=   0.7s\n",
      "[CV 2/5] END metric=manhattan, n_neighbors=5, weights=uniform;, score=0.622 total time=   0.8s\n",
      "[CV 3/5] END metric=manhattan, n_neighbors=5, weights=uniform;, score=0.659 total time=   0.8s\n",
      "[CV 4/5] END metric=manhattan, n_neighbors=5, weights=uniform;, score=0.632 total time=   0.8s\n",
      "[CV 5/5] END metric=manhattan, n_neighbors=5, weights=uniform;, score=0.642 total time=   0.8s\n",
      "[CV 1/5] END metric=manhattan, n_neighbors=5, weights=distance;, score=0.672 total time=   0.6s\n",
      "[CV 2/5] END metric=manhattan, n_neighbors=5, weights=distance;, score=0.628 total time=   0.7s\n",
      "[CV 3/5] END metric=manhattan, n_neighbors=5, weights=distance;, score=0.665 total time=   0.7s\n",
      "[CV 4/5] END metric=manhattan, n_neighbors=5, weights=distance;, score=0.644 total time=   0.7s\n",
      "[CV 5/5] END metric=manhattan, n_neighbors=5, weights=distance;, score=0.647 total time=   0.6s\n",
      "[CV 1/5] END metric=manhattan, n_neighbors=10, weights=uniform;, score=0.690 total time=   0.7s\n",
      "[CV 2/5] END metric=manhattan, n_neighbors=10, weights=uniform;, score=0.649 total time=   0.6s\n",
      "[CV 3/5] END metric=manhattan, n_neighbors=10, weights=uniform;, score=0.690 total time=   0.6s\n",
      "[CV 4/5] END metric=manhattan, n_neighbors=10, weights=uniform;, score=0.661 total time=   0.6s\n",
      "[CV 5/5] END metric=manhattan, n_neighbors=10, weights=uniform;, score=0.661 total time=   0.6s\n",
      "[CV 1/5] END metric=manhattan, n_neighbors=10, weights=distance;, score=0.686 total time=   0.5s\n",
      "[CV 2/5] END metric=manhattan, n_neighbors=10, weights=distance;, score=0.642 total time=   0.5s\n",
      "[CV 3/5] END metric=manhattan, n_neighbors=10, weights=distance;, score=0.697 total time=   0.5s\n",
      "[CV 4/5] END metric=manhattan, n_neighbors=10, weights=distance;, score=0.660 total time=   0.5s\n",
      "[CV 5/5] END metric=manhattan, n_neighbors=10, weights=distance;, score=0.664 total time=   0.6s\n",
      "[CV 1/5] END metric=manhattan, n_neighbors=15, weights=uniform;, score=0.684 total time=   0.8s\n",
      "[CV 2/5] END metric=manhattan, n_neighbors=15, weights=uniform;, score=0.658 total time=   0.7s\n",
      "[CV 3/5] END metric=manhattan, n_neighbors=15, weights=uniform;, score=0.691 total time=   0.8s\n",
      "[CV 4/5] END metric=manhattan, n_neighbors=15, weights=uniform;, score=0.665 total time=   0.8s\n",
      "[CV 5/5] END metric=manhattan, n_neighbors=15, weights=uniform;, score=0.664 total time=   0.8s\n",
      "[CV 1/5] END metric=manhattan, n_neighbors=15, weights=distance;, score=0.682 total time=   0.6s\n",
      "[CV 2/5] END metric=manhattan, n_neighbors=15, weights=distance;, score=0.661 total time=   0.7s\n",
      "[CV 3/5] END metric=manhattan, n_neighbors=15, weights=distance;, score=0.692 total time=   0.7s\n",
      "[CV 4/5] END metric=manhattan, n_neighbors=15, weights=distance;, score=0.664 total time=   0.6s\n",
      "[CV 5/5] END metric=manhattan, n_neighbors=15, weights=distance;, score=0.670 total time=   0.7s\n",
      "kNN best params: {'metric': 'manhattan', 'n_neighbors': 15, 'weights': 'distance'} Training Kappa: 0.6738858102167751\n",
      "--------------------------------------------------\n"
     ]
    }
   ],
   "source": [
    "kNN_clf = KNeighborsClassifier()\n",
    "parameters = {'n_neighbors':(1, 5, 10, 15),\n",
    "                'weights':['uniform', 'distance'],\n",
    "                'metric' : ['minkowski' , 'euclidean' , 'manhattan']}\n",
    "GS_kNN= GridSearchCV(estimator = kNN_clf,\n",
    "                param_grid = parameters,\n",
    "                verbose = 3,\n",
    "                cv = 5,\n",
    "                scoring    = kappa_scorer\n",
    "                )\n",
    "GS_kNN.fit(X_train, y_train) # Recorrer Hiperparametros\n",
    "print(\"kNN best params:\", GS_kNN.best_params_, \"Training Kappa:\",GS_kNN.best_score_)\n",
    "print(\"-\"*50)"
   ]
  },
  {
   "cell_type": "code",
   "execution_count": 29,
   "metadata": {},
   "outputs": [
    {
     "name": "stdout",
     "output_type": "stream",
     "text": [
      "--------------------------------------------------\n",
      "kNN best params: {'metric': 'manhattan', 'n_neighbors': 15, 'weights': 'distance'}\n",
      "Training Kappa: 0.6738858102167751\n",
      "Testing Kappa: 0.6652475303756755\n",
      "Testing Accuracy: 0.5667244367417678\n"
     ]
    },
    {
     "data": {
      "image/png": "[encoded data removed]",
      "text/plain": [
       "<Figure size 640x480 with 2 Axes>"
      ]
     },
     "metadata": {},
     "output_type": "display_data"
    }
   ],
   "source": [
    "print(\"-\"*50)\n",
    "# kNN\n",
    "print(\"kNN best params:\", GS_kNN.best_params_) # Mejores parametros\n",
    "kappa_kNN_train = GS_kNN.best_score_\n",
    "print(\"Training Kappa:\",kappa_kNN_train) # kappa Train\n",
    "y_pred_kNN = GS_kNN.predict(X_test) # Predict Test\n",
    "kappa_kNN_test = cohen_kappa_score(y_test, y_pred_kNN, weights=\"quadratic\") # kappa Test\n",
    "print(\"Testing Kappa:\", kappa_kNN_test)\n",
    "accuracy_kNN_test = accuracy_score(y_test, y_pred_kNN) # Accuracy Test\n",
    "print(\"Testing Accuracy:\", accuracy_kNN_test)\n",
    "cm = metrics.confusion_matrix(y_test, y_pred_kNN)\n",
    "cm_display = metrics.ConfusionMatrixDisplay(confusion_matrix = cm, display_labels = GS_kNN.classes_)\n",
    "cm_display.plot()\n",
    "plt.show()"
   ]
  },
  {
   "cell_type": "markdown",
   "metadata": {},
   "source": [
    "## Random Forest"
   ]
  },
  {
   "cell_type": "code",
   "execution_count": 30,
   "metadata": {},
   "outputs": [
    {
     "name": "stdout",
     "output_type": "stream",
     "text": [
      "Fitting 5 folds for each of 8 candidates, totalling 40 fits\n",
      "[CV 1/5] END max_depth=10, min_samples_leaf=1, n_estimators=100;, score=0.700 total time=   2.6s\n",
      "[CV 2/5] END max_depth=10, min_samples_leaf=1, n_estimators=100;, score=0.693 total time=   2.6s\n",
      "[CV 3/5] END max_depth=10, min_samples_leaf=1, n_estimators=100;, score=0.711 total time=   2.5s\n",
      "[CV 4/5] END max_depth=10, min_samples_leaf=1, n_estimators=100;, score=0.680 total time=   2.4s\n",
      "[CV 5/5] END max_depth=10, min_samples_leaf=1, n_estimators=100;, score=0.697 total time=   2.5s\n",
      "[CV 1/5] END max_depth=10, min_samples_leaf=1, n_estimators=500;, score=0.705 total time=  12.6s\n",
      "[CV 2/5] END max_depth=10, min_samples_leaf=1, n_estimators=500;, score=0.691 total time=  12.4s\n",
      "[CV 3/5] END max_depth=10, min_samples_leaf=1, n_estimators=500;, score=0.710 total time=  12.4s\n",
      "[CV 4/5] END max_depth=10, min_samples_leaf=1, n_estimators=500;, score=0.681 total time=  12.6s\n",
      "[CV 5/5] END max_depth=10, min_samples_leaf=1, n_estimators=500;, score=0.697 total time=  12.5s\n",
      "[CV 1/5] END max_depth=10, min_samples_leaf=4, n_estimators=100;, score=0.702 total time=   2.5s\n",
      "[CV 2/5] END max_depth=10, min_samples_leaf=4, n_estimators=100;, score=0.689 total time=   2.3s\n",
      "[CV 3/5] END max_depth=10, min_samples_leaf=4, n_estimators=100;, score=0.709 total time=   2.3s\n",
      "[CV 4/5] END max_depth=10, min_samples_leaf=4, n_estimators=100;, score=0.681 total time=   2.5s\n",
      "[CV 5/5] END max_depth=10, min_samples_leaf=4, n_estimators=100;, score=0.691 total time=   2.3s\n",
      "[CV 1/5] END max_depth=10, min_samples_leaf=4, n_estimators=500;, score=0.704 total time=  12.6s\n",
      "[CV 2/5] END max_depth=10, min_samples_leaf=4, n_estimators=500;, score=0.693 total time=  12.0s\n",
      "[CV 3/5] END max_depth=10, min_samples_leaf=4, n_estimators=500;, score=0.709 total time=  12.0s\n",
      "[CV 4/5] END max_depth=10, min_samples_leaf=4, n_estimators=500;, score=0.682 total time=  12.0s\n",
      "[CV 5/5] END max_depth=10, min_samples_leaf=4, n_estimators=500;, score=0.696 total time=  12.0s\n",
      "[CV 1/5] END max_depth=None, min_samples_leaf=1, n_estimators=100;, score=0.705 total time=   4.2s\n",
      "[CV 2/5] END max_depth=None, min_samples_leaf=1, n_estimators=100;, score=0.693 total time=   4.1s\n",
      "[CV 3/5] END max_depth=None, min_samples_leaf=1, n_estimators=100;, score=0.718 total time=   4.1s\n",
      "[CV 4/5] END max_depth=None, min_samples_leaf=1, n_estimators=100;, score=0.684 total time=   4.3s\n",
      "[CV 5/5] END max_depth=None, min_samples_leaf=1, n_estimators=100;, score=0.700 total time=   4.1s\n",
      "[CV 1/5] END max_depth=None, min_samples_leaf=1, n_estimators=500;, score=0.704 total time=  21.2s\n",
      "[CV 2/5] END max_depth=None, min_samples_leaf=1, n_estimators=500;, score=0.694 total time=  21.8s\n",
      "[CV 3/5] END max_depth=None, min_samples_leaf=1, n_estimators=500;, score=0.717 total time=  21.3s\n",
      "[CV 4/5] END max_depth=None, min_samples_leaf=1, n_estimators=500;, score=0.689 total time=  25.7s\n",
      "[CV 5/5] END max_depth=None, min_samples_leaf=1, n_estimators=500;, score=0.698 total time=  50.3s\n",
      "[CV 1/5] END max_depth=None, min_samples_leaf=4, n_estimators=100;, score=0.699 total time=   8.5s\n",
      "[CV 2/5] END max_depth=None, min_samples_leaf=4, n_estimators=100;, score=0.689 total time=   8.0s\n",
      "[CV 3/5] END max_depth=None, min_samples_leaf=4, n_estimators=100;, score=0.712 total time=   8.4s\n",
      "[CV 4/5] END max_depth=None, min_samples_leaf=4, n_estimators=100;, score=0.681 total time=   7.6s\n",
      "[CV 5/5] END max_depth=None, min_samples_leaf=4, n_estimators=100;, score=0.692 total time=   8.5s\n",
      "[CV 1/5] END max_depth=None, min_samples_leaf=4, n_estimators=500;, score=0.706 total time=  40.3s\n",
      "[CV 2/5] END max_depth=None, min_samples_leaf=4, n_estimators=500;, score=0.695 total time=  39.7s\n",
      "[CV 3/5] END max_depth=None, min_samples_leaf=4, n_estimators=500;, score=0.713 total time=  28.9s\n",
      "[CV 4/5] END max_depth=None, min_samples_leaf=4, n_estimators=500;, score=0.685 total time=  16.4s\n",
      "[CV 5/5] END max_depth=None, min_samples_leaf=4, n_estimators=500;, score=0.698 total time=  16.6s\n",
      "--------------------------------------------------\n"
     ]
    }
   ],
   "source": [
    "# RF\n",
    "RF_clf = RandomForestClassifier(random_state=123)\n",
    "# parameters = {'n_estimators':(50, 100, 200, 500),\n",
    "#               'max_depth':[10, 50, 100, None],\n",
    "#               'min_samples_leaf': [1,2,3,4],\n",
    "#               }\n",
    "parameters = {'n_estimators':(100, 500),\n",
    "              'max_depth':[10, None],\n",
    "              'min_samples_leaf': [1,4],\n",
    "              }\n",
    "\n",
    "GS_RF = GridSearchCV(estimator = RF_clf,\n",
    "                    param_grid = parameters,\n",
    "                    verbose = 3,\n",
    "                    cv = 5,\n",
    "                    scoring    = kappa_scorer)\n",
    "GS_RF.fit(X_train, y_train) # Recorrer Hiperparametros\n",
    "print(\"-\"*50)"
   ]
  },
  {
   "cell_type": "code",
   "execution_count": 31,
   "metadata": {},
   "outputs": [
    {
     "name": "stdout",
     "output_type": "stream",
     "text": [
      "RF best params: {'max_depth': None, 'min_samples_leaf': 1, 'n_estimators': 500}\n",
      "Training Kappa: 0.7002166254848445\n",
      "Testing Kappa: 0.6864509738787344\n",
      "Testing Accuracy: 0.5830926246870788\n"
     ]
    },
    {
     "data": {
      "image/png": "[encoded data removed]",
      "text/plain": [
       "<Figure size 640x480 with 2 Axes>"
      ]
     },
     "metadata": {},
     "output_type": "display_data"
    },
    {
     "name": "stdout",
     "output_type": "stream",
     "text": [
      "--------------------------------------------------\n"
     ]
    }
   ],
   "source": [
    "# RF\n",
    "print(\"RF best params:\", GS_RF.best_params_) # Mejores parametros\n",
    "kappa_RF_train = GS_RF.best_score_\n",
    "print(\"Training Kappa:\",kappa_RF_train) # kappa Train\n",
    "y_pred_RF = GS_RF.predict(X_test) # Predict Test\n",
    "kappa_RF_test = cohen_kappa_score(y_test, y_pred_RF, weights=\"quadratic\") # kappa Test\n",
    "print(\"Testing Kappa:\", kappa_RF_test)\n",
    "accuracy_RF_test = accuracy_score(y_test, y_pred_RF) # Accuracy Test\n",
    "print(\"Testing Accuracy:\", accuracy_RF_test)\n",
    "cm = metrics.confusion_matrix(y_test, y_pred_RF)\n",
    "cm_display = metrics.ConfusionMatrixDisplay(confusion_matrix = cm, display_labels = GS_RF.classes_)\n",
    "cm_display.plot()\n",
    "plt.show()\n",
    "print(\"-\"*50)"
   ]
  },
  {
   "cell_type": "markdown",
   "metadata": {},
   "source": [
    "# More features"
   ]
  },
  {
   "cell_type": "code",
   "execution_count": 32,
   "metadata": {},
   "outputs": [],
   "source": [
    "class Preprocessor:\n",
    "    def __init__(self) -> None:\n",
    "        # self.twd = TreebankWordDetokenizer()\n",
    "        # self.STOP_WORDS = set(stopwords.words('english'))\n",
    "        \n",
    "        # self.spacy_ner_model = spacy.load('en_core_web_sm',)\n",
    "        # self.speller = Speller(lang='en')\n",
    "        self.spellchecker = SpellChecker() \n",
    "\n",
    "    def quotes_count(self, row):\n",
    "        summary = row['full_text']\n",
    "        quotes_from_summary = re.findall(r'\"([^\"]*)\"', summary)\n",
    "        return len(quotes_from_summary)\n",
    "\n",
    "    def spelling(self, text):\n",
    "        wordlist=text.split()\n",
    "        amount_miss = len(list(self.spellchecker.unknown(wordlist)))\n",
    "        return amount_miss\n",
    "    \n",
    "    # def add_spelling_dictionary(self, tokens: List[str]) -> List[str]:\n",
    "    #     \"\"\"dictionary update for pyspell checker and autocorrect\"\"\"\n",
    "    #     self.spellchecker.word_frequency.load_words(tokens)\n",
    "    #     self.speller.nlp_data.update({token:1000 for token in tokens})\n",
    "    \n",
    "    def run(self, data: pd.DataFrame, mode:str) -> pd.DataFrame:\n",
    "        \n",
    "        # Text tokenization\n",
    "        data[\"text_length\"] = data[\"full_text\"].apply(lambda x: len(x))\n",
    "        data[\"text_tokens\"] = data[\"full_text\"].apply(lambda x: word_tokenize(x))\n",
    "        data[\"text_tokens_count\"] = data[\"text_tokens\"].apply(lambda x: len(x))\n",
    "        print(\"Token counting done\")\n",
    "        \n",
    "        # # fix misspelling\n",
    "        # data[\"fixed_text\"] = data[\"full_text\"].progress_apply(lambda x: self.speller(x))\n",
    "        # print(\"Text correction done\")\n",
    "        \n",
    "        # count misspelling\n",
    "        data[\"splling_err_num\"] = data[\"full_text\"].progress_apply(self.spelling)\n",
    "        print(\"Spelling mistake count done\")\n",
    "        \n",
    "        # quotes count\n",
    "        data['quotes_count'] = data.progress_apply(self.quotes_count, axis=1)\n",
    "        print(\"Quote count done\")\n",
    "        \n",
    "        return data\n",
    "    \n",
    "preprocessor = Preprocessor()"
   ]
  },
  {
   "cell_type": "code",
   "execution_count": 33,
   "metadata": {},
   "outputs": [
    {
     "name": "stdout",
     "output_type": "stream",
     "text": [
      "Token counting done\n"
     ]
    },
    {
     "name": "stderr",
     "output_type": "stream",
     "text": [
      "100%|██████████| 17307/17307 [00:11<00:00, 1442.72it/s]\n"
     ]
    },
    {
     "name": "stdout",
     "output_type": "stream",
     "text": [
      "Spelling mistake count done\n"
     ]
    },
    {
     "name": "stderr",
     "output_type": "stream",
     "text": [
      "100%|██████████| 17307/17307 [00:00<00:00, 98154.86it/s]"
     ]
    },
    {
     "name": "stdout",
     "output_type": "stream",
     "text": [
      "Quote count done\n"
     ]
    },
    {
     "name": "stderr",
     "output_type": "stream",
     "text": [
      "\n"
     ]
    },
    {
     "name": "stdout",
     "output_type": "stream",
     "text": [
      "Features Number:  69\n"
     ]
    },
    {
     "data": {
      "text/html": [
       "<div>\n",
       "<style scoped>\n",
       "    .dataframe tbody tr th:only-of-type {\n",
       "        vertical-align: middle;\n",
       "    }\n",
       "\n",
       "    .dataframe tbody tr th {\n",
       "        vertical-align: top;\n",
       "    }\n",
       "\n",
       "    .dataframe thead th {\n",
       "        text-align: right;\n",
       "    }\n",
       "</style>\n",
       "<table border=\"1\" class=\"dataframe\">\n",
       "  <thead>\n",
       "    <tr style=\"text-align: right;\">\n",
       "      <th></th>\n",
       "      <th>essay_id</th>\n",
       "      <th>paragraph_50_cnt</th>\n",
       "      <th>paragraph_75_cnt</th>\n",
       "      <th>paragraph_100_cnt</th>\n",
       "      <th>paragraph_125_cnt</th>\n",
       "      <th>paragraph_150_cnt</th>\n",
       "      <th>paragraph_175_cnt</th>\n",
       "      <th>paragraph_200_cnt</th>\n",
       "      <th>paragraph_250_cnt</th>\n",
       "      <th>paragraph_300_cnt</th>\n",
       "      <th>...</th>\n",
       "      <th>word_len_q2</th>\n",
       "      <th>word_len_q3</th>\n",
       "      <th>full_text</th>\n",
       "      <th>score</th>\n",
       "      <th>paragraph</th>\n",
       "      <th>text_length</th>\n",
       "      <th>text_tokens</th>\n",
       "      <th>text_tokens_count</th>\n",
       "      <th>splling_err_num</th>\n",
       "      <th>quotes_count</th>\n",
       "    </tr>\n",
       "  </thead>\n",
       "  <tbody>\n",
       "    <tr>\n",
       "      <th>0</th>\n",
       "      <td>000d118</td>\n",
       "      <td>1</td>\n",
       "      <td>1</td>\n",
       "      <td>1</td>\n",
       "      <td>1</td>\n",
       "      <td>1</td>\n",
       "      <td>1</td>\n",
       "      <td>1</td>\n",
       "      <td>1</td>\n",
       "      <td>1</td>\n",
       "      <td>...</td>\n",
       "      <td>4.0</td>\n",
       "      <td>5.0</td>\n",
       "      <td>Many people have car where they live. The thin...</td>\n",
       "      <td>3</td>\n",
       "      <td>[Many people have car where they live. The thi...</td>\n",
       "      <td>2677</td>\n",
       "      <td>[Many, people, have, car, where, they, live, ....</td>\n",
       "      <td>545</td>\n",
       "      <td>54</td>\n",
       "      <td>4</td>\n",
       "    </tr>\n",
       "    <tr>\n",
       "      <th>1</th>\n",
       "      <td>000fe60</td>\n",
       "      <td>5</td>\n",
       "      <td>5</td>\n",
       "      <td>5</td>\n",
       "      <td>5</td>\n",
       "      <td>5</td>\n",
       "      <td>5</td>\n",
       "      <td>4</td>\n",
       "      <td>3</td>\n",
       "      <td>3</td>\n",
       "      <td>...</td>\n",
       "      <td>4.0</td>\n",
       "      <td>5.0</td>\n",
       "      <td>I am a scientist at NASA that is discussing th...</td>\n",
       "      <td>3</td>\n",
       "      <td>[I am a scientist at NASA that is discussing t...</td>\n",
       "      <td>1669</td>\n",
       "      <td>[I, am, a, scientist, at, NASA, that, is, disc...</td>\n",
       "      <td>371</td>\n",
       "      <td>34</td>\n",
       "      <td>4</td>\n",
       "    </tr>\n",
       "    <tr>\n",
       "      <th>2</th>\n",
       "      <td>001ab80</td>\n",
       "      <td>4</td>\n",
       "      <td>4</td>\n",
       "      <td>4</td>\n",
       "      <td>4</td>\n",
       "      <td>4</td>\n",
       "      <td>4</td>\n",
       "      <td>4</td>\n",
       "      <td>4</td>\n",
       "      <td>4</td>\n",
       "      <td>...</td>\n",
       "      <td>4.0</td>\n",
       "      <td>5.0</td>\n",
       "      <td>People always wish they had the same technolog...</td>\n",
       "      <td>4</td>\n",
       "      <td>[People always wish they had the same technolo...</td>\n",
       "      <td>3077</td>\n",
       "      <td>[People, always, wish, they, had, the, same, t...</td>\n",
       "      <td>605</td>\n",
       "      <td>43</td>\n",
       "      <td>6</td>\n",
       "    </tr>\n",
       "  </tbody>\n",
       "</table>\n",
       "<p>3 rows × 78 columns</p>\n",
       "</div>"
      ],
      "text/plain": [
       "  essay_id  paragraph_50_cnt  paragraph_75_cnt  paragraph_100_cnt  \\\n",
       "0  000d118                 1                 1                  1   \n",
       "1  000fe60                 5                 5                  5   \n",
       "2  001ab80                 4                 4                  4   \n",
       "\n",
       "   paragraph_125_cnt  paragraph_150_cnt  paragraph_175_cnt  paragraph_200_cnt  \\\n",
       "0                  1                  1                  1                  1   \n",
       "1                  5                  5                  5                  4   \n",
       "2                  4                  4                  4                  4   \n",
       "\n",
       "   paragraph_250_cnt  paragraph_300_cnt  ...  word_len_q2  word_len_q3  \\\n",
       "0                  1                  1  ...          4.0          5.0   \n",
       "1                  3                  3  ...          4.0          5.0   \n",
       "2                  4                  4  ...          4.0          5.0   \n",
       "\n",
       "                                           full_text  score  \\\n",
       "0  Many people have car where they live. The thin...      3   \n",
       "1  I am a scientist at NASA that is discussing th...      3   \n",
       "2  People always wish they had the same technolog...      4   \n",
       "\n",
       "                                           paragraph  text_length  \\\n",
       "0  [Many people have car where they live. The thi...         2677   \n",
       "1  [I am a scientist at NASA that is discussing t...         1669   \n",
       "2  [People always wish they had the same technolo...         3077   \n",
       "\n",
       "                                         text_tokens  text_tokens_count  \\\n",
       "0  [Many, people, have, car, where, they, live, ....                545   \n",
       "1  [I, am, a, scientist, at, NASA, that, is, disc...                371   \n",
       "2  [People, always, wish, they, had, the, same, t...                605   \n",
       "\n",
       "   splling_err_num  quotes_count  \n",
       "0               54             4  \n",
       "1               34             4  \n",
       "2               43             6  \n",
       "\n",
       "[3 rows x 78 columns]"
      ]
     },
     "execution_count": 33,
     "metadata": {},
     "output_type": "execute_result"
    }
   ],
   "source": [
    "tmp = preprocessor.run(train.to_pandas(), mode=\"train\")\n",
    "\n",
    "# Merge the newly generated feature data with the previously generated feature data\n",
    "train_extended_feats = train_feats.merge(tmp, on='essay_id', how='left')\n",
    "\n",
    "feature_names = list(filter(lambda x: x not in ['essay_id','score'], train_feats.columns))\n",
    "print('Features Number: ',len(feature_names))\n",
    "train_extended_feats.head(3)"
   ]
  },
  {
   "cell_type": "markdown",
   "metadata": {},
   "source": [
    "# Extended Classification"
   ]
  },
  {
   "cell_type": "code",
   "execution_count": 34,
   "metadata": {},
   "outputs": [
    {
     "data": {
      "text/plain": [
       "Index(['essay_id', 'paragraph_50_cnt', 'paragraph_75_cnt', 'paragraph_100_cnt',\n",
       "       'paragraph_125_cnt', 'paragraph_150_cnt', 'paragraph_175_cnt',\n",
       "       'paragraph_200_cnt', 'paragraph_250_cnt', 'paragraph_300_cnt',\n",
       "       'paragraph_350_cnt', 'paragraph_400_cnt', 'paragraph_500_cnt',\n",
       "       'paragraph_600_cnt', 'paragraph_700_cnt', 'paragraph_25_cnt',\n",
       "       'paragraph_49_cnt', 'paragraph_len_max', 'paragraph_sentence_cnt_max',\n",
       "       'paragraph_word_cnt_max', 'paragraph_len_mean',\n",
       "       'paragraph_sentence_cnt_mean', 'paragraph_word_cnt_mean',\n",
       "       'paragraph_len_min', 'paragraph_sentence_cnt_min',\n",
       "       'paragraph_word_cnt_min', 'paragraph_len_first',\n",
       "       'paragraph_sentence_cnt_first', 'paragraph_word_cnt_first',\n",
       "       'paragraph_len_last', 'paragraph_sentence_cnt_last',\n",
       "       'paragraph_word_cnt_last', 'sentence_15_cnt', 'sentence_50_cnt',\n",
       "       'sentence_100_cnt', 'sentence_150_cnt', 'sentence_200_cnt',\n",
       "       'sentence_250_cnt', 'sentence_300_cnt', 'sentence_len_max',\n",
       "       'sentence_word_cnt_max', 'sentence_len_mean', 'sentence_word_cnt_mean',\n",
       "       'sentence_len_min', 'sentence_word_cnt_min', 'sentence_len_first',\n",
       "       'sentence_word_cnt_first', 'sentence_len_last',\n",
       "       'sentence_word_cnt_last', 'word_1_cnt', 'word_2_cnt', 'word_3_cnt',\n",
       "       'word_4_cnt', 'word_5_cnt', 'word_6_cnt', 'word_7_cnt', 'word_8_cnt',\n",
       "       'word_9_cnt', 'word_10_cnt', 'word_11_cnt', 'word_12_cnt',\n",
       "       'word_13_cnt', 'word_14_cnt', 'word_15_cnt', 'word_len_max',\n",
       "       'word_len_mean', 'word_len_std', 'word_len_q1', 'word_len_q2',\n",
       "       'word_len_q3', 'full_text', 'score', 'paragraph', 'text_length',\n",
       "       'text_tokens', 'text_tokens_count', 'splling_err_num', 'quotes_count'],\n",
       "      dtype='object')"
      ]
     },
     "execution_count": 34,
     "metadata": {},
     "output_type": "execute_result"
    }
   ],
   "source": [
    "train_extended_feats.keys()"
   ]
  },
  {
   "cell_type": "code",
   "execution_count": 35,
   "metadata": {},
   "outputs": [],
   "source": [
    "X = train_extended_feats.drop(columns=[\"essay_id\", \"full_text\", \"score\", \"paragraph\", \"text_tokens\"])\n",
    "y = df[\"score\"]\n",
    "X_train, X_test, y_train, y_test = train_test_split(X, y, test_size=0.30, random_state=123, stratify = y)"
   ]
  },
  {
   "cell_type": "markdown",
   "metadata": {},
   "source": [
    "## kNN"
   ]
  },
  {
   "cell_type": "code",
   "execution_count": 36,
   "metadata": {},
   "outputs": [
    {
     "name": "stdout",
     "output_type": "stream",
     "text": [
      "Fitting 5 folds for each of 24 candidates, totalling 120 fits\n",
      "[CV 1/5] END metric=minkowski, n_neighbors=1, weights=uniform;, score=0.599 total time=   0.2s\n",
      "[CV 2/5] END metric=minkowski, n_neighbors=1, weights=uniform;, score=0.582 total time=   0.2s\n",
      "[CV 3/5] END metric=minkowski, n_neighbors=1, weights=uniform;, score=0.600 total time=   0.2s\n",
      "[CV 4/5] END metric=minkowski, n_neighbors=1, weights=uniform;, score=0.594 total time=   0.2s\n",
      "[CV 5/5] END metric=minkowski, n_neighbors=1, weights=uniform;, score=0.584 total time=   0.2s\n",
      "[CV 1/5] END metric=minkowski, n_neighbors=1, weights=distance;, score=0.599 total time=   0.1s\n",
      "[CV 2/5] END metric=minkowski, n_neighbors=1, weights=distance;, score=0.582 total time=   0.1s\n",
      "[CV 3/5] END metric=minkowski, n_neighbors=1, weights=distance;, score=0.600 total time=   0.1s\n",
      "[CV 4/5] END metric=minkowski, n_neighbors=1, weights=distance;, score=0.594 total time=   0.1s\n",
      "[CV 5/5] END metric=minkowski, n_neighbors=1, weights=distance;, score=0.584 total time=   0.1s\n",
      "[CV 1/5] END metric=minkowski, n_neighbors=5, weights=uniform;, score=0.655 total time=   0.2s\n",
      "[CV 2/5] END metric=minkowski, n_neighbors=5, weights=uniform;, score=0.627 total time=   0.2s\n",
      "[CV 3/5] END metric=minkowski, n_neighbors=5, weights=uniform;, score=0.662 total time=   0.5s\n",
      "[CV 4/5] END metric=minkowski, n_neighbors=5, weights=uniform;, score=0.634 total time=   0.2s\n",
      "[CV 5/5] END metric=minkowski, n_neighbors=5, weights=uniform;, score=0.648 total time=   0.2s\n",
      "[CV 1/5] END metric=minkowski, n_neighbors=5, weights=distance;, score=0.663 total time=   0.1s\n",
      "[CV 2/5] END metric=minkowski, n_neighbors=5, weights=distance;, score=0.632 total time=   0.1s\n",
      "[CV 3/5] END metric=minkowski, n_neighbors=5, weights=distance;, score=0.665 total time=   0.1s\n",
      "[CV 4/5] END metric=minkowski, n_neighbors=5, weights=distance;, score=0.647 total time=   0.1s\n",
      "[CV 5/5] END metric=minkowski, n_neighbors=5, weights=distance;, score=0.646 total time=   0.1s\n",
      "[CV 1/5] END metric=minkowski, n_neighbors=10, weights=uniform;, score=0.679 total time=   0.3s\n",
      "[CV 2/5] END metric=minkowski, n_neighbors=10, weights=uniform;, score=0.649 total time=   0.2s\n",
      "[CV 3/5] END metric=minkowski, n_neighbors=10, weights=uniform;, score=0.680 total time=   0.2s\n",
      "[CV 4/5] END metric=minkowski, n_neighbors=10, weights=uniform;, score=0.648 total time=   0.2s\n",
      "[CV 5/5] END metric=minkowski, n_neighbors=10, weights=uniform;, score=0.666 total time=   0.2s\n",
      "[CV 1/5] END metric=minkowski, n_neighbors=10, weights=distance;, score=0.682 total time=   0.1s\n",
      "[CV 2/5] END metric=minkowski, n_neighbors=10, weights=distance;, score=0.650 total time=   0.1s\n",
      "[CV 3/5] END metric=minkowski, n_neighbors=10, weights=distance;, score=0.682 total time=   0.1s\n",
      "[CV 4/5] END metric=minkowski, n_neighbors=10, weights=distance;, score=0.644 total time=   0.1s\n",
      "[CV 5/5] END metric=minkowski, n_neighbors=10, weights=distance;, score=0.669 total time=   0.1s\n",
      "[CV 1/5] END metric=minkowski, n_neighbors=15, weights=uniform;, score=0.684 total time=   0.3s\n",
      "[CV 2/5] END metric=minkowski, n_neighbors=15, weights=uniform;, score=0.663 total time=   0.2s\n",
      "[CV 3/5] END metric=minkowski, n_neighbors=15, weights=uniform;, score=0.688 total time=   0.2s\n",
      "[CV 4/5] END metric=minkowski, n_neighbors=15, weights=uniform;, score=0.650 total time=   0.2s\n",
      "[CV 5/5] END metric=minkowski, n_neighbors=15, weights=uniform;, score=0.665 total time=   0.2s\n",
      "[CV 1/5] END metric=minkowski, n_neighbors=15, weights=distance;, score=0.687 total time=   0.0s\n",
      "[CV 2/5] END metric=minkowski, n_neighbors=15, weights=distance;, score=0.662 total time=   0.1s\n",
      "[CV 3/5] END metric=minkowski, n_neighbors=15, weights=distance;, score=0.689 total time=   0.1s\n",
      "[CV 4/5] END metric=minkowski, n_neighbors=15, weights=distance;, score=0.653 total time=   0.1s\n",
      "[CV 5/5] END metric=minkowski, n_neighbors=15, weights=distance;, score=0.667 total time=   0.1s\n",
      "[CV 1/5] END metric=euclidean, n_neighbors=1, weights=uniform;, score=0.599 total time=   0.2s\n",
      "[CV 2/5] END metric=euclidean, n_neighbors=1, weights=uniform;, score=0.582 total time=   0.2s\n",
      "[CV 3/5] END metric=euclidean, n_neighbors=1, weights=uniform;, score=0.600 total time=   0.2s\n",
      "[CV 4/5] END metric=euclidean, n_neighbors=1, weights=uniform;, score=0.594 total time=   0.2s\n",
      "[CV 5/5] END metric=euclidean, n_neighbors=1, weights=uniform;, score=0.584 total time=   0.2s\n",
      "[CV 1/5] END metric=euclidean, n_neighbors=1, weights=distance;, score=0.599 total time=   0.0s\n",
      "[CV 2/5] END metric=euclidean, n_neighbors=1, weights=distance;, score=0.582 total time=   0.1s\n",
      "[CV 3/5] END metric=euclidean, n_neighbors=1, weights=distance;, score=0.600 total time=   0.1s\n",
      "[CV 4/5] END metric=euclidean, n_neighbors=1, weights=distance;, score=0.594 total time=   0.1s\n",
      "[CV 5/5] END metric=euclidean, n_neighbors=1, weights=distance;, score=0.584 total time=   0.1s\n",
      "[CV 1/5] END metric=euclidean, n_neighbors=5, weights=uniform;, score=0.655 total time=   0.2s\n",
      "[CV 2/5] END metric=euclidean, n_neighbors=5, weights=uniform;, score=0.627 total time=   0.2s\n",
      "[CV 3/5] END metric=euclidean, n_neighbors=5, weights=uniform;, score=0.662 total time=   0.2s\n",
      "[CV 4/5] END metric=euclidean, n_neighbors=5, weights=uniform;, score=0.634 total time=   0.2s\n",
      "[CV 5/5] END metric=euclidean, n_neighbors=5, weights=uniform;, score=0.648 total time=   0.2s\n",
      "[CV 1/5] END metric=euclidean, n_neighbors=5, weights=distance;, score=0.663 total time=   0.1s\n",
      "[CV 2/5] END metric=euclidean, n_neighbors=5, weights=distance;, score=0.632 total time=   0.1s\n",
      "[CV 3/5] END metric=euclidean, n_neighbors=5, weights=distance;, score=0.665 total time=   0.1s\n",
      "[CV 4/5] END metric=euclidean, n_neighbors=5, weights=distance;, score=0.647 total time=   0.1s\n",
      "[CV 5/5] END metric=euclidean, n_neighbors=5, weights=distance;, score=0.646 total time=   0.2s\n",
      "[CV 1/5] END metric=euclidean, n_neighbors=10, weights=uniform;, score=0.679 total time=   0.3s\n",
      "[CV 2/5] END metric=euclidean, n_neighbors=10, weights=uniform;, score=0.649 total time=   0.2s\n",
      "[CV 3/5] END metric=euclidean, n_neighbors=10, weights=uniform;, score=0.680 total time=   0.2s\n",
      "[CV 4/5] END metric=euclidean, n_neighbors=10, weights=uniform;, score=0.648 total time=   0.3s\n",
      "[CV 5/5] END metric=euclidean, n_neighbors=10, weights=uniform;, score=0.666 total time=   0.4s\n",
      "[CV 1/5] END metric=euclidean, n_neighbors=10, weights=distance;, score=0.682 total time=   0.2s\n",
      "[CV 2/5] END metric=euclidean, n_neighbors=10, weights=distance;, score=0.650 total time=   0.1s\n",
      "[CV 3/5] END metric=euclidean, n_neighbors=10, weights=distance;, score=0.682 total time=   0.1s\n",
      "[CV 4/5] END metric=euclidean, n_neighbors=10, weights=distance;, score=0.644 total time=   0.2s\n",
      "[CV 5/5] END metric=euclidean, n_neighbors=10, weights=distance;, score=0.669 total time=   0.1s\n",
      "[CV 1/5] END metric=euclidean, n_neighbors=15, weights=uniform;, score=0.684 total time=   0.3s\n",
      "[CV 2/5] END metric=euclidean, n_neighbors=15, weights=uniform;, score=0.663 total time=   0.2s\n",
      "[CV 3/5] END metric=euclidean, n_neighbors=15, weights=uniform;, score=0.688 total time=   0.2s\n",
      "[CV 4/5] END metric=euclidean, n_neighbors=15, weights=uniform;, score=0.650 total time=   0.2s\n",
      "[CV 5/5] END metric=euclidean, n_neighbors=15, weights=uniform;, score=0.665 total time=   0.2s\n",
      "[CV 1/5] END metric=euclidean, n_neighbors=15, weights=distance;, score=0.687 total time=   0.1s\n",
      "[CV 2/5] END metric=euclidean, n_neighbors=15, weights=distance;, score=0.662 total time=   0.1s\n",
      "[CV 3/5] END metric=euclidean, n_neighbors=15, weights=distance;, score=0.689 total time=   0.1s\n",
      "[CV 4/5] END metric=euclidean, n_neighbors=15, weights=distance;, score=0.653 total time=   0.1s\n",
      "[CV 5/5] END metric=euclidean, n_neighbors=15, weights=distance;, score=0.667 total time=   0.1s\n",
      "[CV 1/5] END metric=manhattan, n_neighbors=1, weights=uniform;, score=0.598 total time=   0.7s\n",
      "[CV 2/5] END metric=manhattan, n_neighbors=1, weights=uniform;, score=0.581 total time=   0.7s\n",
      "[CV 3/5] END metric=manhattan, n_neighbors=1, weights=uniform;, score=0.617 total time=   0.7s\n",
      "[CV 4/5] END metric=manhattan, n_neighbors=1, weights=uniform;, score=0.597 total time=   0.7s\n",
      "[CV 5/5] END metric=manhattan, n_neighbors=1, weights=uniform;, score=0.590 total time=   0.6s\n",
      "[CV 1/5] END metric=manhattan, n_neighbors=1, weights=distance;, score=0.598 total time=   0.5s\n",
      "[CV 2/5] END metric=manhattan, n_neighbors=1, weights=distance;, score=0.581 total time=   0.5s\n",
      "[CV 3/5] END metric=manhattan, n_neighbors=1, weights=distance;, score=0.617 total time=   0.5s\n",
      "[CV 4/5] END metric=manhattan, n_neighbors=1, weights=distance;, score=0.597 total time=   0.6s\n",
      "[CV 5/5] END metric=manhattan, n_neighbors=1, weights=distance;, score=0.590 total time=   0.5s\n",
      "[CV 1/5] END metric=manhattan, n_neighbors=5, weights=uniform;, score=0.664 total time=   0.7s\n",
      "[CV 2/5] END metric=manhattan, n_neighbors=5, weights=uniform;, score=0.626 total time=   0.7s\n",
      "[CV 3/5] END metric=manhattan, n_neighbors=5, weights=uniform;, score=0.671 total time=   0.6s\n",
      "[CV 4/5] END metric=manhattan, n_neighbors=5, weights=uniform;, score=0.629 total time=   0.7s\n",
      "[CV 5/5] END metric=manhattan, n_neighbors=5, weights=uniform;, score=0.647 total time=   0.7s\n",
      "[CV 1/5] END metric=manhattan, n_neighbors=5, weights=distance;, score=0.673 total time=   0.5s\n",
      "[CV 2/5] END metric=manhattan, n_neighbors=5, weights=distance;, score=0.641 total time=   0.5s\n",
      "[CV 3/5] END metric=manhattan, n_neighbors=5, weights=distance;, score=0.673 total time=   0.5s\n",
      "[CV 4/5] END metric=manhattan, n_neighbors=5, weights=distance;, score=0.638 total time=   0.6s\n",
      "[CV 5/5] END metric=manhattan, n_neighbors=5, weights=distance;, score=0.654 total time=   0.5s\n",
      "[CV 1/5] END metric=manhattan, n_neighbors=10, weights=uniform;, score=0.693 total time=   0.7s\n",
      "[CV 2/5] END metric=manhattan, n_neighbors=10, weights=uniform;, score=0.655 total time=   0.7s\n",
      "[CV 3/5] END metric=manhattan, n_neighbors=10, weights=uniform;, score=0.687 total time=   0.7s\n",
      "[CV 4/5] END metric=manhattan, n_neighbors=10, weights=uniform;, score=0.654 total time=   0.9s\n",
      "[CV 5/5] END metric=manhattan, n_neighbors=10, weights=uniform;, score=0.663 total time=   0.9s\n",
      "[CV 1/5] END metric=manhattan, n_neighbors=10, weights=distance;, score=0.692 total time=   0.7s\n",
      "[CV 2/5] END metric=manhattan, n_neighbors=10, weights=distance;, score=0.655 total time=   0.7s\n",
      "[CV 3/5] END metric=manhattan, n_neighbors=10, weights=distance;, score=0.687 total time=   0.8s\n",
      "[CV 4/5] END metric=manhattan, n_neighbors=10, weights=distance;, score=0.653 total time=   0.8s\n",
      "[CV 5/5] END metric=manhattan, n_neighbors=10, weights=distance;, score=0.667 total time=   0.8s\n",
      "[CV 1/5] END metric=manhattan, n_neighbors=15, weights=uniform;, score=0.691 total time=   1.1s\n",
      "[CV 2/5] END metric=manhattan, n_neighbors=15, weights=uniform;, score=0.662 total time=   1.0s\n",
      "[CV 3/5] END metric=manhattan, n_neighbors=15, weights=uniform;, score=0.692 total time=   0.8s\n",
      "[CV 4/5] END metric=manhattan, n_neighbors=15, weights=uniform;, score=0.657 total time=   0.6s\n",
      "[CV 5/5] END metric=manhattan, n_neighbors=15, weights=uniform;, score=0.669 total time=   0.6s\n",
      "[CV 1/5] END metric=manhattan, n_neighbors=15, weights=distance;, score=0.690 total time=   0.5s\n",
      "[CV 2/5] END metric=manhattan, n_neighbors=15, weights=distance;, score=0.664 total time=   0.6s\n",
      "[CV 3/5] END metric=manhattan, n_neighbors=15, weights=distance;, score=0.693 total time=   0.6s\n",
      "[CV 4/5] END metric=manhattan, n_neighbors=15, weights=distance;, score=0.661 total time=   0.5s\n",
      "[CV 5/5] END metric=manhattan, n_neighbors=15, weights=distance;, score=0.670 total time=   0.6s\n",
      "kNN best params: {'metric': 'manhattan', 'n_neighbors': 15, 'weights': 'distance'} Training Kappa: 0.6755691680763022\n",
      "--------------------------------------------------\n"
     ]
    }
   ],
   "source": [
    "kNN_clf = KNeighborsClassifier()\n",
    "parameters = {'n_neighbors':(1, 5, 10, 15),\n",
    "                'weights':['uniform', 'distance'],\n",
    "                'metric' : ['minkowski' , 'euclidean' , 'manhattan']}\n",
    "GS_kNN= GridSearchCV(estimator = kNN_clf,\n",
    "                param_grid = parameters,\n",
    "                verbose = 3,\n",
    "                cv = 5,\n",
    "                scoring  = kappa_scorer\n",
    "                )\n",
    "GS_kNN.fit(X_train, y_train) # Recorrer Hiperparametros\n",
    "print(\"kNN best params:\", GS_kNN.best_params_, \"Training Kappa:\",GS_kNN.best_score_)\n",
    "print(\"-\"*50)"
   ]
  },
  {
   "cell_type": "code",
   "execution_count": 37,
   "metadata": {},
   "outputs": [
    {
     "name": "stdout",
     "output_type": "stream",
     "text": [
      "--------------------------------------------------\n",
      "kNN best params: {'metric': 'manhattan', 'n_neighbors': 15, 'weights': 'distance'}\n",
      "Training Kappa: 0.6755691680763022\n",
      "Testing Kappa: 0.6585123002978428\n",
      "Testing Accuracy: 0.560369728480647\n"
     ]
    },
    {
     "data": {
      "image/png": "[encoded data removed]",
      "text/plain": [
       "<Figure size 640x480 with 2 Axes>"
      ]
     },
     "metadata": {},
     "output_type": "display_data"
    }
   ],
   "source": [
    "print(\"-\"*50)\n",
    "# kNN\n",
    "print(\"kNN best params:\", GS_kNN.best_params_) # Mejores parametros\n",
    "kappa_kNN_train = GS_kNN.best_score_\n",
    "print(\"Training Kappa:\",kappa_kNN_train) # Kappa Train\n",
    "y_pred_kNN = GS_kNN.predict(X_test) # Predict Test\n",
    "kappa_kNN_test = cohen_kappa_score(y_test, y_pred_kNN, weights=\"quadratic\") # Kappa Test\n",
    "print(\"Testing Kappa:\", kappa_kNN_test)\n",
    "accuracy_kNN_test = accuracy_score(y_test, y_pred_kNN) # Accuracy Test\n",
    "print(\"Testing Accuracy:\", accuracy_kNN_test)\n",
    "cm = metrics.confusion_matrix(y_test, y_pred_kNN)\n",
    "cm_display = metrics.ConfusionMatrixDisplay(confusion_matrix = cm, display_labels = GS_kNN.classes_)\n",
    "cm_display.plot()\n",
    "plt.show()"
   ]
  },
  {
   "cell_type": "markdown",
   "metadata": {},
   "source": [
    "## Random Forest"
   ]
  },
  {
   "cell_type": "code",
   "execution_count": 38,
   "metadata": {},
   "outputs": [
    {
     "name": "stdout",
     "output_type": "stream",
     "text": [
      "Fitting 5 folds for each of 8 candidates, totalling 40 fits\n",
      "[CV 1/5] END max_depth=10, min_samples_leaf=1, n_estimators=100;, score=0.696 total time=   2.7s\n",
      "[CV 2/5] END max_depth=10, min_samples_leaf=1, n_estimators=100;, score=0.690 total time=   2.8s\n",
      "[CV 3/5] END max_depth=10, min_samples_leaf=1, n_estimators=100;, score=0.708 total time=   2.6s\n",
      "[CV 4/5] END max_depth=10, min_samples_leaf=1, n_estimators=100;, score=0.685 total time=   2.4s\n",
      "[CV 5/5] END max_depth=10, min_samples_leaf=1, n_estimators=100;, score=0.699 total time=   2.6s\n",
      "[CV 1/5] END max_depth=10, min_samples_leaf=1, n_estimators=500;, score=0.702 total time=  12.7s\n",
      "[CV 2/5] END max_depth=10, min_samples_leaf=1, n_estimators=500;, score=0.692 total time=  12.6s\n",
      "[CV 3/5] END max_depth=10, min_samples_leaf=1, n_estimators=500;, score=0.710 total time=  12.6s\n",
      "[CV 4/5] END max_depth=10, min_samples_leaf=1, n_estimators=500;, score=0.686 total time=  12.6s\n",
      "[CV 5/5] END max_depth=10, min_samples_leaf=1, n_estimators=500;, score=0.698 total time=  12.5s\n",
      "[CV 1/5] END max_depth=10, min_samples_leaf=4, n_estimators=100;, score=0.695 total time=   2.4s\n",
      "[CV 2/5] END max_depth=10, min_samples_leaf=4, n_estimators=100;, score=0.689 total time=   2.3s\n",
      "[CV 3/5] END max_depth=10, min_samples_leaf=4, n_estimators=100;, score=0.707 total time=   2.3s\n",
      "[CV 4/5] END max_depth=10, min_samples_leaf=4, n_estimators=100;, score=0.683 total time=   2.4s\n",
      "[CV 5/5] END max_depth=10, min_samples_leaf=4, n_estimators=100;, score=0.692 total time=   2.3s\n",
      "[CV 1/5] END max_depth=10, min_samples_leaf=4, n_estimators=500;, score=0.705 total time=  12.3s\n",
      "[CV 2/5] END max_depth=10, min_samples_leaf=4, n_estimators=500;, score=0.693 total time=  12.2s\n",
      "[CV 3/5] END max_depth=10, min_samples_leaf=4, n_estimators=500;, score=0.710 total time=  12.4s\n",
      "[CV 4/5] END max_depth=10, min_samples_leaf=4, n_estimators=500;, score=0.683 total time=  12.0s\n",
      "[CV 5/5] END max_depth=10, min_samples_leaf=4, n_estimators=500;, score=0.698 total time=  12.4s\n",
      "[CV 1/5] END max_depth=None, min_samples_leaf=1, n_estimators=100;, score=0.705 total time=   4.2s\n",
      "[CV 2/5] END max_depth=None, min_samples_leaf=1, n_estimators=100;, score=0.698 total time=   4.4s\n",
      "[CV 3/5] END max_depth=None, min_samples_leaf=1, n_estimators=100;, score=0.699 total time=   4.2s\n",
      "[CV 4/5] END max_depth=None, min_samples_leaf=1, n_estimators=100;, score=0.682 total time=   4.1s\n",
      "[CV 5/5] END max_depth=None, min_samples_leaf=1, n_estimators=100;, score=0.693 total time=   4.2s\n",
      "[CV 1/5] END max_depth=None, min_samples_leaf=1, n_estimators=500;, score=0.705 total time=  21.9s\n",
      "[CV 2/5] END max_depth=None, min_samples_leaf=1, n_estimators=500;, score=0.698 total time=  21.7s\n",
      "[CV 3/5] END max_depth=None, min_samples_leaf=1, n_estimators=500;, score=0.715 total time=  22.3s\n",
      "[CV 4/5] END max_depth=None, min_samples_leaf=1, n_estimators=500;, score=0.687 total time=  21.4s\n",
      "[CV 5/5] END max_depth=None, min_samples_leaf=1, n_estimators=500;, score=0.697 total time=  21.4s\n",
      "[CV 1/5] END max_depth=None, min_samples_leaf=4, n_estimators=100;, score=0.706 total time=   3.5s\n",
      "[CV 2/5] END max_depth=None, min_samples_leaf=4, n_estimators=100;, score=0.696 total time=   3.3s\n",
      "[CV 3/5] END max_depth=None, min_samples_leaf=4, n_estimators=100;, score=0.716 total time=   3.3s\n",
      "[CV 4/5] END max_depth=None, min_samples_leaf=4, n_estimators=100;, score=0.683 total time=   3.4s\n",
      "[CV 5/5] END max_depth=None, min_samples_leaf=4, n_estimators=100;, score=0.694 total time=   3.3s\n",
      "[CV 1/5] END max_depth=None, min_samples_leaf=4, n_estimators=500;, score=0.703 total time=  17.1s\n",
      "[CV 2/5] END max_depth=None, min_samples_leaf=4, n_estimators=500;, score=0.694 total time=  17.1s\n",
      "[CV 3/5] END max_depth=None, min_samples_leaf=4, n_estimators=500;, score=0.712 total time=  17.0s\n",
      "[CV 4/5] END max_depth=None, min_samples_leaf=4, n_estimators=500;, score=0.684 total time=  17.1s\n",
      "[CV 5/5] END max_depth=None, min_samples_leaf=4, n_estimators=500;, score=0.695 total time=  17.0s\n",
      "--------------------------------------------------\n"
     ]
    }
   ],
   "source": [
    "# RF\n",
    "RF_clf = RandomForestClassifier(random_state=123)\n",
    "# parameters = {'n_estimators':(50, 100, 200, 500),\n",
    "#               'max_depth':[10, 50, 100, None],\n",
    "#               'min_samples_leaf': [1,2,3,4],\n",
    "#               }\n",
    "parameters = {'n_estimators':(100, 500),\n",
    "              'max_depth':[10, None],\n",
    "              'min_samples_leaf': [1,4],\n",
    "              }\n",
    "\n",
    "GS_RF = GridSearchCV(estimator = RF_clf,\n",
    "                    param_grid = parameters,\n",
    "                    verbose = 3,\n",
    "                    cv = 5,\n",
    "                    scoring    = kappa_scorer)\n",
    "GS_RF.fit(X_train, y_train) # Recorrer Hiperparametros\n",
    "print(\"-\"*50)"
   ]
  },
  {
   "cell_type": "code",
   "execution_count": 39,
   "metadata": {},
   "outputs": [
    {
     "name": "stdout",
     "output_type": "stream",
     "text": [
      "RF best params: {'max_depth': None, 'min_samples_leaf': 1, 'n_estimators': 500}\n",
      "Training Kappa: 0.700526916731086\n",
      "Testing Kappa: 0.683097228521128\n",
      "Testing Accuracy: 0.5794338532640092\n"
     ]
    },
    {
     "data": {
      "image/png": "[encoded data removed]",
      "text/plain": [
       "<Figure size 640x480 with 2 Axes>"
      ]
     },
     "metadata": {},
     "output_type": "display_data"
    },
    {
     "name": "stdout",
     "output_type": "stream",
     "text": [
      "--------------------------------------------------\n"
     ]
    }
   ],
   "source": [
    "# RF\n",
    "print(\"RF best params:\", GS_RF.best_params_) # Mejores parametros\n",
    "kappa_RF_train = GS_RF.best_score_\n",
    "print(\"Training Kappa:\",kappa_RF_train) # Kappa Train\n",
    "y_pred_RF = GS_RF.predict(X_test) # Predict Test\n",
    "kappa_RF_test = cohen_kappa_score(y_test, y_pred_RF, weights=\"quadratic\") # Kappa Test\n",
    "print(\"Testing Kappa:\", kappa_RF_test)\n",
    "accuracy_RF_test = accuracy_score(y_test, y_pred_RF) # Accuracy Test\n",
    "print(\"Testing Accuracy:\", accuracy_RF_test)\n",
    "cm = metrics.confusion_matrix(y_test, y_pred_RF)\n",
    "cm_display = metrics.ConfusionMatrixDisplay(confusion_matrix = cm, display_labels = GS_RF.classes_)\n",
    "cm_display.plot()\n",
    "plt.show()\n",
    "print(\"-\"*50)"
   ]
  },
  {
   "cell_type": "markdown",
   "metadata": {},
   "source": [
    "# Feature Selection"
   ]
  },
  {
   "cell_type": "code",
   "execution_count": null,
   "metadata": {},
   "outputs": [],
   "source": [
    "X = train_extended_feats.drop(columns=[\"essay_id\", \"full_text\", \"score\", \"paragraph\", \"text_tokens\"])\n",
    "y = df[\"score\"]\n",
    "X_train, X_test, y_train, y_test = train_test_split(X, y, test_size=0.2, random_state=42, stratify = y)\n"
   ]
  },
  {
   "cell_type": "code",
   "execution_count": null,
   "metadata": {},
   "outputs": [],
   "source": [
    "from sklearn.feature_selection import SelectKBest\n",
    "selector = SelectKBest(k=10)  # Select top 10 features\n",
    "X_train_selected = selector.fit_transform(X_train, y_train)\n",
    "X_test_selected = selector.transform(X_test)"
   ]
  },
  {
   "cell_type": "code",
   "execution_count": null,
   "metadata": {},
   "outputs": [],
   "source": [
    "# X_train, X_test, y_train, y_test = train_test_split(X_new, y, test_size=0.30, random_state=123, stratify = y)"
   ]
  },
  {
   "cell_type": "markdown",
   "metadata": {},
   "source": [
    "## kNN"
   ]
  },
  {
   "cell_type": "code",
   "execution_count": null,
   "metadata": {},
   "outputs": [],
   "source": [
    "kNN_clf = KNeighborsClassifier()\n",
    "parameters = {'n_neighbors':(1, 5, 10, 15),\n",
    "                'weights':['uniform', 'distance'],\n",
    "                'metric' : ['minkowski' , 'euclidean' , 'manhattan']}\n",
    "GS_kNN= GridSearchCV(estimator = kNN_clf,\n",
    "                param_grid = parameters,\n",
    "                verbose = 3,\n",
    "                cv = 5,\n",
    "                scoring    = kappa_scorer\n",
    "                )\n",
    "GS_kNN.fit(X_train_selected, y_train) # Recorrer Hiperparametros\n",
    "print(\"kNN best params:\", GS_kNN.best_params_, \"Training Kappa:\",GS_kNN.best_score_)\n",
    "print(\"-\"*50)"
   ]
  },
  {
   "cell_type": "code",
   "execution_count": null,
   "metadata": {},
   "outputs": [],
   "source": [
    "print(\"-\"*50)\n",
    "# kNN\n",
    "print(\"kNN best params:\", GS_kNN.best_params_) # Mejores parametros\n",
    "kappa_kNN_train = GS_kNN.best_score_\n",
    "print(\"Training Kappa:\",kappa_kNN_train) # Kappa Train\n",
    "y_pred_kNN = GS_kNN.predict(X_test_selected) # Predict Test\n",
    "kappa_kNN_test = cohen_kappa_score(y_test, y_pred_kNN, weights=\"quadratic\") # Kappa Test\n",
    "print(\"Testing Kappa:\", kappa_kNN_test)\n",
    "accuracy_kNN_test = accuracy_score(y_test, y_pred_kNN) # Accuracy Test\n",
    "print(\"Testing Accuracy:\", accuracy_kNN_test)\n",
    "cm = metrics.confusion_matrix(y_test, y_pred_kNN)\n",
    "cm_display = metrics.ConfusionMatrixDisplay(confusion_matrix = cm, display_labels = GS_kNN.classes_)\n",
    "cm_display.plot()\n",
    "plt.show()"
   ]
  }
 ],
 "metadata": {
  "kernelspec": {
   "display_name": "base",
   "language": "python",
   "name": "python3"
  },
  "language_info": {
   "codemirror_mode": {
    "name": "ipython",
    "version": 3
   },
   "file_extension": ".py",
   "mimetype": "text/x-python",
   "name": "python",
   "nbconvert_exporter": "python",
   "pygments_lexer": "ipython3",
   "version": "3.11.9"
  }
 },
 "nbformat": 4,
 "nbformat_minor": 2
}
